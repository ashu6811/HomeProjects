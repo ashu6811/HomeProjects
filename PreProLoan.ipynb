{
 "cells": [
  {
   "cell_type": "code",
   "execution_count": 3,
   "metadata": {},
   "outputs": [],
   "source": [
    "import pandas as pd\n",
    "import numpy as np\n",
    "import matplotlib.pyplot as plt\n",
    "%matplotlib inline\n"
   ]
  },
  {
   "cell_type": "code",
   "execution_count": 4,
   "metadata": {},
   "outputs": [
    {
     "data": {
      "text/html": [
       "<div>\n",
       "<style scoped>\n",
       "    .dataframe tbody tr th:only-of-type {\n",
       "        vertical-align: middle;\n",
       "    }\n",
       "\n",
       "    .dataframe tbody tr th {\n",
       "        vertical-align: top;\n",
       "    }\n",
       "\n",
       "    .dataframe thead th {\n",
       "        text-align: right;\n",
       "    }\n",
       "</style>\n",
       "<table border=\"1\" class=\"dataframe\">\n",
       "  <thead>\n",
       "    <tr style=\"text-align: right;\">\n",
       "      <th></th>\n",
       "      <th>Gender</th>\n",
       "      <th>Married</th>\n",
       "      <th>Dependents</th>\n",
       "      <th>Education</th>\n",
       "      <th>Self_Employed</th>\n",
       "      <th>ApplicantIncome</th>\n",
       "      <th>CoapplicantIncome</th>\n",
       "      <th>LoanAmount</th>\n",
       "      <th>Loan_Amount_Term</th>\n",
       "      <th>Credit_History</th>\n",
       "      <th>Property_Area</th>\n",
       "      <th>Loan_Status</th>\n",
       "    </tr>\n",
       "    <tr>\n",
       "      <th>Loan_ID</th>\n",
       "      <th></th>\n",
       "      <th></th>\n",
       "      <th></th>\n",
       "      <th></th>\n",
       "      <th></th>\n",
       "      <th></th>\n",
       "      <th></th>\n",
       "      <th></th>\n",
       "      <th></th>\n",
       "      <th></th>\n",
       "      <th></th>\n",
       "      <th></th>\n",
       "    </tr>\n",
       "  </thead>\n",
       "  <tbody>\n",
       "    <tr>\n",
       "      <th>LP001002</th>\n",
       "      <td>Male</td>\n",
       "      <td>No</td>\n",
       "      <td>0</td>\n",
       "      <td>Graduate</td>\n",
       "      <td>No</td>\n",
       "      <td>5849</td>\n",
       "      <td>0.0</td>\n",
       "      <td>NaN</td>\n",
       "      <td>360.0</td>\n",
       "      <td>1.0</td>\n",
       "      <td>Urban</td>\n",
       "      <td>Y</td>\n",
       "    </tr>\n",
       "    <tr>\n",
       "      <th>LP001003</th>\n",
       "      <td>Male</td>\n",
       "      <td>Yes</td>\n",
       "      <td>1</td>\n",
       "      <td>Graduate</td>\n",
       "      <td>No</td>\n",
       "      <td>4583</td>\n",
       "      <td>1508.0</td>\n",
       "      <td>128.0</td>\n",
       "      <td>360.0</td>\n",
       "      <td>1.0</td>\n",
       "      <td>Rural</td>\n",
       "      <td>N</td>\n",
       "    </tr>\n",
       "    <tr>\n",
       "      <th>LP001005</th>\n",
       "      <td>Male</td>\n",
       "      <td>Yes</td>\n",
       "      <td>0</td>\n",
       "      <td>Graduate</td>\n",
       "      <td>Yes</td>\n",
       "      <td>3000</td>\n",
       "      <td>0.0</td>\n",
       "      <td>66.0</td>\n",
       "      <td>360.0</td>\n",
       "      <td>1.0</td>\n",
       "      <td>Urban</td>\n",
       "      <td>Y</td>\n",
       "    </tr>\n",
       "    <tr>\n",
       "      <th>LP001006</th>\n",
       "      <td>Male</td>\n",
       "      <td>Yes</td>\n",
       "      <td>0</td>\n",
       "      <td>Not Graduate</td>\n",
       "      <td>No</td>\n",
       "      <td>2583</td>\n",
       "      <td>2358.0</td>\n",
       "      <td>120.0</td>\n",
       "      <td>360.0</td>\n",
       "      <td>1.0</td>\n",
       "      <td>Urban</td>\n",
       "      <td>Y</td>\n",
       "    </tr>\n",
       "    <tr>\n",
       "      <th>LP001008</th>\n",
       "      <td>Male</td>\n",
       "      <td>No</td>\n",
       "      <td>0</td>\n",
       "      <td>Graduate</td>\n",
       "      <td>No</td>\n",
       "      <td>6000</td>\n",
       "      <td>0.0</td>\n",
       "      <td>141.0</td>\n",
       "      <td>360.0</td>\n",
       "      <td>1.0</td>\n",
       "      <td>Urban</td>\n",
       "      <td>Y</td>\n",
       "    </tr>\n",
       "  </tbody>\n",
       "</table>\n",
       "</div>"
      ],
      "text/plain": [
       "         Gender Married Dependents     Education Self_Employed  \\\n",
       "Loan_ID                                                          \n",
       "LP001002   Male      No          0      Graduate            No   \n",
       "LP001003   Male     Yes          1      Graduate            No   \n",
       "LP001005   Male     Yes          0      Graduate           Yes   \n",
       "LP001006   Male     Yes          0  Not Graduate            No   \n",
       "LP001008   Male      No          0      Graduate            No   \n",
       "\n",
       "          ApplicantIncome  CoapplicantIncome  LoanAmount  Loan_Amount_Term  \\\n",
       "Loan_ID                                                                      \n",
       "LP001002             5849                0.0         NaN             360.0   \n",
       "LP001003             4583             1508.0       128.0             360.0   \n",
       "LP001005             3000                0.0        66.0             360.0   \n",
       "LP001006             2583             2358.0       120.0             360.0   \n",
       "LP001008             6000                0.0       141.0             360.0   \n",
       "\n",
       "          Credit_History Property_Area Loan_Status  \n",
       "Loan_ID                                             \n",
       "LP001002             1.0         Urban           Y  \n",
       "LP001003             1.0         Rural           N  \n",
       "LP001005             1.0         Urban           Y  \n",
       "LP001006             1.0         Urban           Y  \n",
       "LP001008             1.0         Urban           Y  "
      ]
     },
     "execution_count": 4,
     "metadata": {},
     "output_type": "execute_result"
    }
   ],
   "source": [
    "raw = pd.read_csv('train_loan.csv', index_col = 'Loan_ID')\n",
    "raw.head()\n"
   ]
  },
  {
   "cell_type": "code",
   "execution_count": 19,
   "metadata": {},
   "outputs": [
    {
     "data": {
      "text/plain": [
       "<bound method DataFrame.count of           Gender Married Dependents     Education Self_Employed  \\\n",
       "Loan_ID                                                           \n",
       "LP001002    Male      No          0      Graduate            No   \n",
       "LP001003    Male     Yes          1      Graduate            No   \n",
       "LP001005    Male     Yes          0      Graduate           Yes   \n",
       "LP001006    Male     Yes          0  Not Graduate            No   \n",
       "LP001008    Male      No          0      Graduate            No   \n",
       "LP001011    Male     Yes          2      Graduate           Yes   \n",
       "LP001013    Male     Yes          0  Not Graduate            No   \n",
       "LP001014    Male     Yes         3+      Graduate            No   \n",
       "LP001018    Male     Yes          2      Graduate            No   \n",
       "LP001020    Male     Yes          1      Graduate            No   \n",
       "LP001024    Male     Yes          2      Graduate            No   \n",
       "LP001027    Male     Yes          2      Graduate           NaN   \n",
       "LP001028    Male     Yes          2      Graduate            No   \n",
       "LP001029    Male      No          0      Graduate            No   \n",
       "LP001030    Male     Yes          2      Graduate            No   \n",
       "LP001032    Male      No          0      Graduate            No   \n",
       "LP001034    Male      No          1  Not Graduate            No   \n",
       "LP001036  Female      No          0      Graduate            No   \n",
       "LP001038    Male     Yes          0  Not Graduate            No   \n",
       "LP001041    Male     Yes          0      Graduate           NaN   \n",
       "LP001043    Male     Yes          0  Not Graduate            No   \n",
       "LP001046    Male     Yes          1      Graduate            No   \n",
       "LP001047    Male     Yes          0  Not Graduate            No   \n",
       "LP001050     NaN     Yes          2  Not Graduate            No   \n",
       "LP001052    Male     Yes          1      Graduate           NaN   \n",
       "LP001066    Male     Yes          0      Graduate           Yes   \n",
       "LP001068    Male     Yes          0      Graduate            No   \n",
       "LP001073    Male     Yes          2  Not Graduate            No   \n",
       "LP001086    Male      No          0  Not Graduate            No   \n",
       "LP001087  Female      No          2      Graduate           NaN   \n",
       "...          ...     ...        ...           ...           ...   \n",
       "LP002911    Male     Yes          1      Graduate            No   \n",
       "LP002912    Male     Yes          1      Graduate            No   \n",
       "LP002916    Male     Yes          0      Graduate            No   \n",
       "LP002917  Female      No          0  Not Graduate            No   \n",
       "LP002925     NaN      No          0      Graduate            No   \n",
       "LP002926    Male     Yes          2      Graduate           Yes   \n",
       "LP002928    Male     Yes          0      Graduate            No   \n",
       "LP002931    Male     Yes          2      Graduate           Yes   \n",
       "LP002933     NaN      No         3+      Graduate           Yes   \n",
       "LP002936    Male     Yes          0      Graduate            No   \n",
       "LP002938    Male     Yes          0      Graduate           Yes   \n",
       "LP002940    Male      No          0  Not Graduate            No   \n",
       "LP002941    Male     Yes          2  Not Graduate           Yes   \n",
       "LP002943    Male      No        NaN      Graduate            No   \n",
       "LP002945    Male     Yes          0      Graduate           Yes   \n",
       "LP002948    Male     Yes          2      Graduate            No   \n",
       "LP002949  Female      No         3+      Graduate           NaN   \n",
       "LP002950    Male     Yes          0  Not Graduate           NaN   \n",
       "LP002953    Male     Yes         3+      Graduate            No   \n",
       "LP002958    Male      No          0      Graduate            No   \n",
       "LP002959  Female     Yes          1      Graduate            No   \n",
       "LP002960    Male     Yes          0  Not Graduate            No   \n",
       "LP002961    Male     Yes          1      Graduate            No   \n",
       "LP002964    Male     Yes          2  Not Graduate            No   \n",
       "LP002974    Male     Yes          0      Graduate            No   \n",
       "LP002978  Female      No          0      Graduate            No   \n",
       "LP002979    Male     Yes         3+      Graduate            No   \n",
       "LP002983    Male     Yes          1      Graduate            No   \n",
       "LP002984    Male     Yes          2      Graduate            No   \n",
       "LP002990  Female      No          0      Graduate           Yes   \n",
       "\n",
       "          ApplicantIncome  CoapplicantIncome  LoanAmount  Loan_Amount_Term  \\\n",
       "Loan_ID                                                                      \n",
       "LP001002             5849                0.0         NaN             360.0   \n",
       "LP001003             4583             1508.0       128.0             360.0   \n",
       "LP001005             3000                0.0        66.0             360.0   \n",
       "LP001006             2583             2358.0       120.0             360.0   \n",
       "LP001008             6000                0.0       141.0             360.0   \n",
       "LP001011             5417             4196.0       267.0             360.0   \n",
       "LP001013             2333             1516.0        95.0             360.0   \n",
       "LP001014             3036             2504.0       158.0             360.0   \n",
       "LP001018             4006             1526.0       168.0             360.0   \n",
       "LP001020            12841            10968.0       349.0             360.0   \n",
       "LP001024             3200              700.0        70.0             360.0   \n",
       "LP001027             2500             1840.0       109.0             360.0   \n",
       "LP001028             3073             8106.0       200.0             360.0   \n",
       "LP001029             1853             2840.0       114.0             360.0   \n",
       "LP001030             1299             1086.0        17.0             120.0   \n",
       "LP001032             4950                0.0       125.0             360.0   \n",
       "LP001034             3596                0.0       100.0             240.0   \n",
       "LP001036             3510                0.0        76.0             360.0   \n",
       "LP001038             4887                0.0       133.0             360.0   \n",
       "LP001041             2600             3500.0       115.0               NaN   \n",
       "LP001043             7660                0.0       104.0             360.0   \n",
       "LP001046             5955             5625.0       315.0             360.0   \n",
       "LP001047             2600             1911.0       116.0             360.0   \n",
       "LP001050             3365             1917.0       112.0             360.0   \n",
       "LP001052             3717             2925.0       151.0             360.0   \n",
       "LP001066             9560                0.0       191.0             360.0   \n",
       "LP001068             2799             2253.0       122.0             360.0   \n",
       "LP001073             4226             1040.0       110.0             360.0   \n",
       "LP001086             1442                0.0        35.0             360.0   \n",
       "LP001087             3750             2083.0       120.0             360.0   \n",
       "...                   ...                ...         ...               ...   \n",
       "LP002911             2787             1917.0       146.0             360.0   \n",
       "LP002912             4283             3000.0       172.0              84.0   \n",
       "LP002916             2297             1522.0       104.0             360.0   \n",
       "LP002917             2165                0.0        70.0             360.0   \n",
       "LP002925             4750                0.0        94.0             360.0   \n",
       "LP002926             2726                0.0       106.0             360.0   \n",
       "LP002928             3000             3416.0        56.0             180.0   \n",
       "LP002931             6000                0.0       205.0             240.0   \n",
       "LP002933             9357                0.0       292.0             360.0   \n",
       "LP002936             3859             3300.0       142.0             180.0   \n",
       "LP002938            16120                0.0       260.0             360.0   \n",
       "LP002940             3833                0.0       110.0             360.0   \n",
       "LP002941             6383             1000.0       187.0             360.0   \n",
       "LP002943             2987                0.0        88.0             360.0   \n",
       "LP002945             9963                0.0       180.0             360.0   \n",
       "LP002948             5780                0.0       192.0             360.0   \n",
       "LP002949              416            41667.0       350.0             180.0   \n",
       "LP002950             2894             2792.0       155.0             360.0   \n",
       "LP002953             5703                0.0       128.0             360.0   \n",
       "LP002958             3676             4301.0       172.0             360.0   \n",
       "LP002959            12000                0.0       496.0             360.0   \n",
       "LP002960             2400             3800.0         NaN             180.0   \n",
       "LP002961             3400             2500.0       173.0             360.0   \n",
       "LP002964             3987             1411.0       157.0             360.0   \n",
       "LP002974             3232             1950.0       108.0             360.0   \n",
       "LP002978             2900                0.0        71.0             360.0   \n",
       "LP002979             4106                0.0        40.0             180.0   \n",
       "LP002983             8072              240.0       253.0             360.0   \n",
       "LP002984             7583                0.0       187.0             360.0   \n",
       "LP002990             4583                0.0       133.0             360.0   \n",
       "\n",
       "          Credit_History Property_Area Loan_Status  \n",
       "Loan_ID                                             \n",
       "LP001002             1.0         Urban           Y  \n",
       "LP001003             1.0         Rural           N  \n",
       "LP001005             1.0         Urban           Y  \n",
       "LP001006             1.0         Urban           Y  \n",
       "LP001008             1.0         Urban           Y  \n",
       "LP001011             1.0         Urban           Y  \n",
       "LP001013             1.0         Urban           Y  \n",
       "LP001014             0.0     Semiurban           N  \n",
       "LP001018             1.0         Urban           Y  \n",
       "LP001020             1.0     Semiurban           N  \n",
       "LP001024             1.0         Urban           Y  \n",
       "LP001027             1.0         Urban           Y  \n",
       "LP001028             1.0         Urban           Y  \n",
       "LP001029             1.0         Rural           N  \n",
       "LP001030             1.0         Urban           Y  \n",
       "LP001032             1.0         Urban           Y  \n",
       "LP001034             NaN         Urban           Y  \n",
       "LP001036             0.0         Urban           N  \n",
       "LP001038             1.0         Rural           N  \n",
       "LP001041             1.0         Urban           Y  \n",
       "LP001043             0.0         Urban           N  \n",
       "LP001046             1.0         Urban           Y  \n",
       "LP001047             0.0     Semiurban           N  \n",
       "LP001050             0.0         Rural           N  \n",
       "LP001052             NaN     Semiurban           N  \n",
       "LP001066             1.0     Semiurban           Y  \n",
       "LP001068             1.0     Semiurban           Y  \n",
       "LP001073             1.0         Urban           Y  \n",
       "LP001086             1.0         Urban           N  \n",
       "LP001087             1.0     Semiurban           Y  \n",
       "...                  ...           ...         ...  \n",
       "LP002911             0.0         Rural           N  \n",
       "LP002912             1.0         Rural           N  \n",
       "LP002916             1.0         Urban           Y  \n",
       "LP002917             1.0     Semiurban           Y  \n",
       "LP002925             1.0     Semiurban           Y  \n",
       "LP002926             0.0     Semiurban           N  \n",
       "LP002928             1.0     Semiurban           Y  \n",
       "LP002931             1.0     Semiurban           N  \n",
       "LP002933             1.0     Semiurban           Y  \n",
       "LP002936             1.0         Rural           Y  \n",
       "LP002938             1.0         Urban           Y  \n",
       "LP002940             1.0         Rural           Y  \n",
       "LP002941             1.0         Rural           N  \n",
       "LP002943             0.0     Semiurban           N  \n",
       "LP002945             1.0         Rural           Y  \n",
       "LP002948             1.0         Urban           Y  \n",
       "LP002949             NaN         Urban           N  \n",
       "LP002950             1.0         Rural           Y  \n",
       "LP002953             1.0         Urban           Y  \n",
       "LP002958             1.0         Rural           Y  \n",
       "LP002959             1.0     Semiurban           Y  \n",
       "LP002960             1.0         Urban           N  \n",
       "LP002961             1.0     Semiurban           Y  \n",
       "LP002964             1.0         Rural           Y  \n",
       "LP002974             1.0         Rural           Y  \n",
       "LP002978             1.0         Rural           Y  \n",
       "LP002979             1.0         Rural           Y  \n",
       "LP002983             1.0         Urban           Y  \n",
       "LP002984             1.0         Urban           Y  \n",
       "LP002990             0.0     Semiurban           N  \n",
       "\n",
       "[614 rows x 12 columns]>"
      ]
     },
     "execution_count": 19,
     "metadata": {},
     "output_type": "execute_result"
    }
   ],
   "source": [
    "raw.count"
   ]
  },
  {
   "cell_type": "code",
   "execution_count": 5,
   "metadata": {},
   "outputs": [
    {
     "data": {
      "text/plain": [
       "Gender               13\n",
       "Married               3\n",
       "Dependents           15\n",
       "Education             0\n",
       "Self_Employed        32\n",
       "ApplicantIncome       0\n",
       "CoapplicantIncome     0\n",
       "LoanAmount           22\n",
       "Loan_Amount_Term     14\n",
       "Credit_History       50\n",
       "Property_Area         0\n",
       "Loan_Status           0\n",
       "dtype: int64"
      ]
     },
     "execution_count": 5,
     "metadata": {},
     "output_type": "execute_result"
    }
   ],
   "source": [
    "raw.apply(lambda x: sum(x.isnull()), axis = 0)\n"
   ]
  },
  {
   "cell_type": "code",
   "execution_count": 6,
   "metadata": {},
   "outputs": [
    {
     "data": {
      "text/plain": [
       "Gender                object\n",
       "Married               object\n",
       "Dependents            object\n",
       "Education             object\n",
       "Self_Employed         object\n",
       "ApplicantIncome        int64\n",
       "CoapplicantIncome    float64\n",
       "LoanAmount           float64\n",
       "Loan_Amount_Term     float64\n",
       "Credit_History       float64\n",
       "Property_Area         object\n",
       "Loan_Status           object\n",
       "dtype: object"
      ]
     },
     "execution_count": 6,
     "metadata": {},
     "output_type": "execute_result"
    }
   ],
   "source": [
    "raw.dtypes\n"
   ]
  },
  {
   "cell_type": "code",
   "execution_count": null,
   "metadata": {},
   "outputs": [],
   "source": [
    "##################...[I] Variable Identification...###################\n",
    "#TYPES OF VARIABLES\n",
    "#Predictor variables\n",
    " #1) Gender \n",
    " #2) Married\n",
    " #3) Dependents\n",
    " #4) Education\n",
    " #5) Self_Employed\n",
    " #6) Credit_History *int\n",
    " #7) Property_Area\n",
    " #8) ApplicantIncome\n",
    " #9) CoapplicantIncome\n",
    " #10) LoanAmount \n",
    " #11) Loan_Amount_Term *float\n",
    "\n",
    "#Target variables\n",
    " #1) Loan_Status\n",
    "    "
   ]
  },
  {
   "cell_type": "code",
   "execution_count": null,
   "metadata": {},
   "outputs": [],
   "source": [
    "#DATA TYPES\n",
    "#Character\n",
    " #1) Gender \n",
    " #2) Married\n",
    " #3) Dependents\n",
    " #4) Education \n",
    " #5) Self_Employed\n",
    " #6) Property_Area\n",
    " #7) Loan_Status [TARGET/OUTPUT]\n",
    "\n",
    "#Numeric \n",
    " #1) ApplicantIncome\n",
    " #2) CoapplicantIncome\n",
    " #3) LoanAmount\n",
    " #4) Credit_History *int\n",
    " #5) Loan_Amount_Term *float"
   ]
  },
  {
   "cell_type": "code",
   "execution_count": 14,
   "metadata": {},
   "outputs": [],
   "source": [
    "#VARIABLE CATEGORY\n",
    "# [A] Categorical \n",
    " #1) Gender \n",
    " #2) Married\n",
    " #3) Dependents\n",
    " #4) Education\n",
    " #5) Self_Employed\n",
    " #6) Credit_History *int\n",
    " #7) Property_Area\n",
    " #8) Loan_Status [LABEL/TARGET/OUTPUT]\n",
    " #9) Loan_Amount_Term *float\n",
    "\n",
    "# [B] Continuous \n",
    " #1) ApplicantIncome\n",
    " #2) CoapplicantIncome\n",
    " #3) LoanAmount\n",
    "\n"
   ]
  },
  {
   "cell_type": "code",
   "execution_count": 18,
   "metadata": {},
   "outputs": [
    {
     "data": {
      "text/plain": [
       "<matplotlib.axes._subplots.AxesSubplot at 0x7f5de92e3dd8>"
      ]
     },
     "execution_count": 18,
     "metadata": {},
     "output_type": "execute_result"
    },
    {
     "data": {
      "image/png": "[encoded data removed]",
      "text/plain": [
       "<Figure size 432x288 with 1 Axes>"
      ]
     },
     "metadata": {},
     "output_type": "display_data"
    }
   ],
   "source": [
    "##################...[II] Univariate Analysis...###################\n",
    "# [II] univariate Analysis is going on....\n",
    "#part1 \n",
    "# [A] CONTINUOUS VARIABLES\n",
    "    #1) ApplicantIncome\n",
    "raw['ApplicantIncome'].hist(bins=20)"
   ]
  },
  {
   "cell_type": "code",
   "execution_count": 7,
   "metadata": {},
   "outputs": [
    {
     "data": {
      "text/plain": [
       "<matplotlib.axes._subplots.AxesSubplot at 0x7f446a93e518>"
      ]
     },
     "execution_count": 7,
     "metadata": {},
     "output_type": "execute_result"
    },
    {
     "data": {
      "image/png": "[encoded data removed]",
      "text/plain": [
       "<Figure size 432x288 with 1 Axes>"
      ]
     },
     "metadata": {},
     "output_type": "display_data"
    },
    {
     "data": {
      "image/png": "[encoded data removed]",
      "text/plain": [
       "<Figure size 432x288 with 1 Axes>"
      ]
     },
     "metadata": {},
     "output_type": "display_data"
    }
   ],
   "source": [
    "# Remember both types of implementing boxplot\n",
    "plt.boxplot(raw['ApplicantIncome'],0, 'bD') #gD mean green Dots; rs means red Square\n",
    "raw.boxplot(column = 'ApplicantIncome', by='Gender' )"
   ]
  },
  {
   "cell_type": "code",
   "execution_count": 8,
   "metadata": {},
   "outputs": [
    {
     "name": "stdout",
     "output_type": "stream",
     "text": [
      "mean= 5403.459283387622\n",
      "Median = 3812.5\n",
      "Mode = 2500\n",
      "Variance = 37259607.772772126\n",
      "Standard Deviation 6109.041673387178\n"
     ]
    },
    {
     "data": {
      "text/plain": [
       "count      614.000000\n",
       "mean      5403.459283\n",
       "std       6109.041673\n",
       "min        150.000000\n",
       "25%       2877.500000\n",
       "50%       3812.500000\n",
       "75%       5795.000000\n",
       "max      81000.000000\n",
       "Name: ApplicantIncome, dtype: float64"
      ]
     },
     "execution_count": 8,
     "metadata": {},
     "output_type": "execute_result"
    }
   ],
   "source": [
    "#ApplicantIncome has many outliers as shown in histogram and boxplot \n",
    "from statistics import mode\n",
    "import statistics as st\n",
    "print (\"mean=\",np.mean(raw['ApplicantIncome']))\n",
    "print ('Median =',np.median(raw['ApplicantIncome']))\n",
    "print ('Mode =',mode(raw['ApplicantIncome']))\n",
    "var = st.pvariance(raw['ApplicantIncome']) # np.var() also works \n",
    "stdev = st.stdev(raw['ApplicantIncome']) #np.stdev()\n",
    "print ('Variance =',var)\n",
    "print('Standard Deviation',stdev)\n",
    "\n",
    "#Alternate Way\n",
    "\n",
    "raw['ApplicantIncome'].describe()"
   ]
  },
  {
   "cell_type": "code",
   "execution_count": 67,
   "metadata": {},
   "outputs": [
    {
     "name": "stdout",
     "output_type": "stream",
     "text": [
      "count      614.000000\n",
      "mean      1621.245798\n",
      "std       2926.248369\n",
      "min          0.000000\n",
      "25%          0.000000\n",
      "50%       1188.500000\n",
      "75%       2297.250000\n",
      "max      41667.000000\n",
      "Name: CoapplicantIncome, dtype: float64\n",
      "AxesSubplot(0.125,0.125;0.775x0.755)\n"
     ]
    },
    {
     "data": {
      "image/png": "[encoded data removed]",
      "text/plain": [
       "<Figure size 432x288 with 1 Axes>"
      ]
     },
     "metadata": {},
     "output_type": "display_data"
    }
   ],
   "source": [
    "# [II] univariate Analysis is going on....\n",
    "#part1 \n",
    "# [A] CONTINUOUS VARIABLES\n",
    "    #2) CoapplicantIncome\n",
    "print(raw['CoapplicantIncome'].describe())\n",
    "print(raw['CoapplicantIncome'].hist(bins=200))\n",
    "\n",
    "# #print(plt.boxplot(raw['CoapplicantIncome']))\n",
    "\n",
    "# Most of the coapplicants have 0 income which must be handled\n",
    "\n",
    "# ther e are few outliers in coapplicant case having much higher income than the average income of the coapplicants\n"
   ]
  },
  {
   "cell_type": "code",
   "execution_count": 9,
   "metadata": {},
   "outputs": [
    {
     "name": "stdout",
     "output_type": "stream",
     "text": [
      "count    592.000000\n",
      "mean     146.412162\n",
      "std       85.587325\n",
      "min        9.000000\n",
      "25%      100.000000\n",
      "50%      128.000000\n",
      "75%      168.000000\n",
      "max      700.000000\n",
      "Name: LoanAmount, dtype: float64\n",
      "AxesSubplot(0.125,0.125;0.775x0.755)\n"
     ]
    },
    {
     "data": {
      "image/png": "[encoded data removed]",
      "text/plain": [
       "<Figure size 432x288 with 1 Axes>"
      ]
     },
     "metadata": {},
     "output_type": "display_data"
    }
   ],
   "source": [
    "# [I] univariate Analysis is going on....\n",
    "#part1 \n",
    "# [A] CONTINUOUS VARIABLES\n",
    "    #3) LoanAmount\n",
    "# it has 22 missing values\n",
    "print(raw['LoanAmount'].describe())\n",
    "print(raw['LoanAmount'].hist(bins=200))"
   ]
  },
  {
   "cell_type": "code",
   "execution_count": 10,
   "metadata": {},
   "outputs": [
    {
     "name": "stdout",
     "output_type": "stream",
     "text": [
      "count      601\n",
      "unique       2\n",
      "top       Male\n",
      "freq       489\n",
      "Name: Gender, dtype: object\n",
      "Mode = Male\n",
      "Missing Values = 13\n"
     ]
    },
    {
     "data": {
      "text/plain": [
       "<matplotlib.axes._subplots.AxesSubplot at 0x7f44612a1550>"
      ]
     },
     "execution_count": 10,
     "metadata": {},
     "output_type": "execute_result"
    },
    {
     "data": {
      "image/png": "[encoded data removed]",
      "text/plain": [
       "<Figure size 432x288 with 1 Axes>"
      ]
     },
     "metadata": {},
     "output_type": "display_data"
    }
   ],
   "source": [
    "# [II] univariate Analysis is going on....\n",
    "#part2 \n",
    "\n",
    "#[A] CATEGORICAL VARIBALES\n",
    "#1) Gender  \n",
    "# There Are 13 Missing values in it\n",
    "\n",
    "print(raw['Gender'].describe())\n",
    "#plt.bar(raw['Gender'], range(len(raw['Gender'])),align='center', alpha=0.5)\n",
    "print('Mode =',st.mode(raw['Gender']))\n",
    "print ('Missing Values = 13')\n",
    "import seaborn as sns\n",
    "sns.countplot(raw['Gender'])"
   ]
  },
  {
   "cell_type": "code",
   "execution_count": 12,
   "metadata": {},
   "outputs": [
    {
     "name": "stdout",
     "output_type": "stream",
     "text": [
      "count     611\n",
      "unique      2\n",
      "top       Yes\n",
      "freq      398\n",
      "Name: Married, dtype: object\n",
      "Mode = Yes\n",
      "Missing Values = 3\n"
     ]
    },
    {
     "data": {
      "text/plain": [
       "<matplotlib.axes._subplots.AxesSubplot at 0x7f446127e6d8>"
      ]
     },
     "execution_count": 12,
     "metadata": {},
     "output_type": "execute_result"
    },
    {
     "data": {
      "image/png": "[encoded data removed]",
      "text/plain": [
       "<Figure size 432x288 with 1 Axes>"
      ]
     },
     "metadata": {},
     "output_type": "display_data"
    }
   ],
   "source": [
    "# [II] univariate Analysis is going on....\n",
    "#part2 \n",
    "\n",
    "#[A] CATEGORICAL VARIBALES\n",
    "#2) Married\n",
    "# There Are 3 Missing values in it\n",
    "\n",
    "print(raw['Married'].describe())\n",
    "print('Mode =',st.mode(raw['Married']))\n",
    "print ('Missing Values = 3')\n",
    "sns.countplot(raw['Married'])"
   ]
  },
  {
   "cell_type": "code",
   "execution_count": 13,
   "metadata": {},
   "outputs": [
    {
     "name": "stdout",
     "output_type": "stream",
     "text": [
      "count     599\n",
      "unique      4\n",
      "top         0\n",
      "freq      345\n",
      "Name: Dependents, dtype: object\n",
      "Mode = 0\n",
      "Missing Values = 15\n"
     ]
    },
    {
     "data": {
      "text/plain": [
       "<matplotlib.axes._subplots.AxesSubplot at 0x7f4461229c18>"
      ]
     },
     "execution_count": 13,
     "metadata": {},
     "output_type": "execute_result"
    },
    {
     "data": {
      "image/png": "[encoded data removed]",
      "text/plain": [
       "<Figure size 432x288 with 1 Axes>"
      ]
     },
     "metadata": {},
     "output_type": "display_data"
    }
   ],
   "source": [
    "# [II] univariate Analysis is going on....\n",
    "#part2 \n",
    "\n",
    "#[A] CATEGORICAL VARIBALES\n",
    "#3) Dependents\n",
    "# There Are 15 Missing values in it\n",
    "\n",
    "print(raw['Dependents'].describe())\n",
    "print('Mode =',st.mode(raw['Dependents']))\n",
    "print ('Missing Values = 15')\n",
    "sns.countplot(raw['Dependents'])\n",
    "\n",
    "# We might need to handle 3+ "
   ]
  },
  {
   "cell_type": "code",
   "execution_count": 22,
   "metadata": {},
   "outputs": [
    {
     "name": "stdout",
     "output_type": "stream",
     "text": [
      "Raw Data has [614 rows x 12 columns]\n"
     ]
    }
   ],
   "source": [
    "print('Raw Data has [614 rows x 12 columns]')\n"
   ]
  },
  {
   "cell_type": "code",
   "execution_count": 23,
   "metadata": {},
   "outputs": [
    {
     "name": "stdout",
     "output_type": "stream",
     "text": [
      "count          614\n",
      "unique           2\n",
      "top       Graduate\n",
      "freq           480\n",
      "Name: Education, dtype: object\n",
      "Mode = Graduate\n",
      "Missing Values = 0\n"
     ]
    },
    {
     "data": {
      "text/plain": [
       "<matplotlib.axes._subplots.AxesSubplot at 0x7f44610fc358>"
      ]
     },
     "execution_count": 23,
     "metadata": {},
     "output_type": "execute_result"
    },
    {
     "data": {
      "image/png": "[encoded data removed]",
      "text/plain": [
       "<Figure size 432x288 with 1 Axes>"
      ]
     },
     "metadata": {},
     "output_type": "display_data"
    }
   ],
   "source": [
    "# [II] univariate Analysis is going on....\n",
    "#part2 \n",
    "\n",
    "#[A] CATEGORICAL VARIBALES\n",
    "#4) Education\n",
    "#There Are 0 Missing values in it\n",
    "\n",
    "print(raw['Education'].describe())\n",
    "print('Mode =',st.mode(raw['Education']))\n",
    "print ('Missing Values = 0')\n",
    "sns.countplot(raw['Education'])\n"
   ]
  },
  {
   "cell_type": "code",
   "execution_count": 26,
   "metadata": {},
   "outputs": [
    {
     "name": "stdout",
     "output_type": "stream",
     "text": [
      "count     582\n",
      "unique      2\n",
      "top        No\n",
      "freq      500\n",
      "Name: Self_Employed, dtype: object\n",
      "Mode = No\n",
      "Missing Values = 0\n"
     ]
    },
    {
     "data": {
      "text/plain": [
       "<matplotlib.axes._subplots.AxesSubplot at 0x7f4460e9b080>"
      ]
     },
     "execution_count": 26,
     "metadata": {},
     "output_type": "execute_result"
    },
    {
     "data": {
      "image/png": "[encoded data removed]",
      "text/plain": [
       "<Figure size 432x288 with 1 Axes>"
      ]
     },
     "metadata": {},
     "output_type": "display_data"
    }
   ],
   "source": [
    "# [II] univariate Analysis is going on....\n",
    "#part2 \n",
    "\n",
    "#[A] CATEGORICAL VARIBALES\n",
    "#5) Self_Employed\n",
    "#There Are 32 Missing values in it\n",
    "\n",
    "print(raw['Self_Employed'].describe())\n",
    "print('Mode =',st.mode(raw['Self_Employed']))\n",
    "print ('Missing Values = 0')\n",
    "sns.countplot(raw['Self_Employed'])\n"
   ]
  },
  {
   "cell_type": "code",
   "execution_count": 30,
   "metadata": {},
   "outputs": [
    {
     "name": "stdout",
     "output_type": "stream",
     "text": [
      "count    564.000000\n",
      "mean       0.842199\n",
      "std        0.364878\n",
      "min        0.000000\n",
      "25%        1.000000\n",
      "50%        1.000000\n",
      "75%        1.000000\n",
      "max        1.000000\n",
      "Name: Credit_History, dtype: float64\n",
      "Mode = 1.0\n",
      "Missing Values = 50\n"
     ]
    },
    {
     "data": {
      "text/plain": [
       "<matplotlib.axes._subplots.AxesSubplot at 0x7f4460d9d4e0>"
      ]
     },
     "execution_count": 30,
     "metadata": {},
     "output_type": "execute_result"
    },
    {
     "data": {
      "image/png": "[encoded data removed]",
      "text/plain": [
       "<Figure size 432x288 with 1 Axes>"
      ]
     },
     "metadata": {},
     "output_type": "display_data"
    }
   ],
   "source": [
    "# [II] univariate Analysis is going on....\n",
    "#part2 \n",
    "\n",
    "#[A] CATEGORICAL VARIBALES\n",
    "#6) Credit_History\n",
    "#There Are 50 Missing values in it\n",
    "\n",
    "print(raw['Credit_History'].describe())\n",
    "print('Mode =',st.mode(raw['Credit_History']))\n",
    "print ('Missing Values = 50')\n",
    "sns.countplot(raw['Credit_History'])\n"
   ]
  },
  {
   "cell_type": "code",
   "execution_count": 29,
   "metadata": {},
   "outputs": [
    {
     "name": "stdout",
     "output_type": "stream",
     "text": [
      "count           614\n",
      "unique            3\n",
      "top       Semiurban\n",
      "freq            233\n",
      "Name: Property_Area, dtype: object\n",
      "Mode = Semiurban\n",
      "Missing Values = 0\n"
     ]
    },
    {
     "data": {
      "text/plain": [
       "<matplotlib.axes._subplots.AxesSubplot at 0x7f4460dc5400>"
      ]
     },
     "execution_count": 29,
     "metadata": {},
     "output_type": "execute_result"
    },
    {
     "data": {
      "image/png": "[encoded data removed]",
      "text/plain": [
       "<Figure size 432x288 with 1 Axes>"
      ]
     },
     "metadata": {},
     "output_type": "display_data"
    }
   ],
   "source": [
    "# [II] univariate Analysis is going on....\n",
    "#part2 \n",
    "\n",
    "#[A] CATEGORICAL VARIBALES\n",
    "#7) Property_Area\n",
    "#There Are 0 Missing values in it\n",
    "\n",
    "print(raw['Property_Area'].describe())\n",
    "print('Mode =',st.mode(raw['Property_Area']))\n",
    "print ('Missing Values = 0')\n",
    "sns.countplot(raw['Property_Area'])\n"
   ]
  },
  {
   "cell_type": "code",
   "execution_count": 31,
   "metadata": {},
   "outputs": [
    {
     "name": "stdout",
     "output_type": "stream",
     "text": [
      "count     614\n",
      "unique      2\n",
      "top         Y\n",
      "freq      422\n",
      "Name: Loan_Status, dtype: object\n",
      "Mode = Y\n",
      "Missing Values = 0\n"
     ]
    },
    {
     "data": {
      "text/plain": [
       "<matplotlib.axes._subplots.AxesSubplot at 0x7f4460d63278>"
      ]
     },
     "execution_count": 31,
     "metadata": {},
     "output_type": "execute_result"
    },
    {
     "data": {
      "image/png": "[encoded data removed]",
      "text/plain": [
       "<Figure size 432x288 with 1 Axes>"
      ]
     },
     "metadata": {},
     "output_type": "display_data"
    }
   ],
   "source": [
    "# [II] univariate Analysis is going on....\n",
    "#part2 \n",
    "\n",
    "#[A] CATEGORICAL VARIBALES\n",
    "#8) Loan_Status [LABEL/TARGET/OUTPUT]\n",
    "#There Are 0 Missing values in it\n",
    "\n",
    "print(raw['Loan_Status'].describe())\n",
    "print('Mode =',st.mode(raw['Loan_Status']))\n",
    "print ('Missing Values = 0')\n",
    "sns.countplot(raw['Loan_Status'])\n"
   ]
  },
  {
   "cell_type": "code",
   "execution_count": 222,
   "metadata": {},
   "outputs": [
    {
     "name": "stdout",
     "output_type": "stream",
     "text": [
      "count    600.00000\n",
      "mean     342.00000\n",
      "std       65.12041\n",
      "min       12.00000\n",
      "25%      360.00000\n",
      "50%      360.00000\n",
      "75%      360.00000\n",
      "max      480.00000\n",
      "Name: Loan_Amount_Term, dtype: float64\n",
      "Mode = 360.0\n",
      "Missing Values = 14\n"
     ]
    },
    {
     "data": {
      "text/plain": [
       "<matplotlib.axes._subplots.AxesSubplot at 0x7f4445ef1f60>"
      ]
     },
     "execution_count": 222,
     "metadata": {},
     "output_type": "execute_result"
    },
    {
     "data": {
      "image/png": "[encoded data removed]",
      "text/plain": [
       "<Figure size 432x288 with 1 Axes>"
      ]
     },
     "metadata": {},
     "output_type": "display_data"
    }
   ],
   "source": [
    "# [II] univariate Analysis is going on....\n",
    "#part2 \n",
    "\n",
    "#[A] CATEGORICAL VARIBALES\n",
    "#9) Loan_Amount_Term\n",
    "#There Are 14 Missing values in it\n",
    "\n",
    "print(raw['Loan_Amount_Term'].describe())\n",
    "print('Mode =',st.mode(raw['Loan_Amount_Term']))\n",
    "print ('Missing Values = 14')\n",
    "sns.countplot(raw['Loan_Amount_Term'])\n",
    "# with bar chart how will you find out outliers \n",
    "#therfore use boxplot instead of countplot or bar-count plot\n"
   ]
  },
  {
   "cell_type": "code",
   "execution_count": null,
   "metadata": {},
   "outputs": [],
   "source": [
    "######################...[III] BIVARIATE VARIABLE ANALYSIS...####################\n",
    "#[A] CATEGORICAL VARIBALES & CATEGORICAL VARIABLES\n",
    "#[B] CONTINUOUS VARIABLES & CONTINUOUS VARIABLES\n",
    "#[C] CATEGORICAL VARIABLES & CONTINUOUS VARIABLES\n",
    "\n"
   ]
  },
  {
   "cell_type": "code",
   "execution_count": 250,
   "metadata": {},
   "outputs": [
    {
     "data": {
      "text/plain": [
       "<matplotlib.axes._subplots.AxesSubplot at 0x7f444320d160>"
      ]
     },
     "execution_count": 250,
     "metadata": {},
     "output_type": "execute_result"
    },
    {
     "data": {
      "image/png": "[encoded data removed]",
      "text/plain": [
       "<Figure size 432x288 with 1 Axes>"
      ]
     },
     "metadata": {},
     "output_type": "display_data"
    }
   ],
   "source": [
    "#[III] BIVARIATE VARIABLE ANALYSIS is going on...\n",
    "#[A] CATEGORICAL VARIBALES & CATEGORICAL VARIABLES\n",
    "\n",
    "tem = pd.crosstab(index=[raw['Education'], raw['Married'], raw['Gender']], columns=raw['Loan_Status'])\n",
    "tem.plot.bar()\n"
   ]
  },
  {
   "cell_type": "code",
   "execution_count": 286,
   "metadata": {},
   "outputs": [
    {
     "name": "stdout",
     "output_type": "stream",
     "text": [
      "Power_divergenceResult(statistic=236.4875207986689, pvalue=2.2940657955698367e-53)\n",
      "Power_divergenceResult(statistic=483.9184692179701, pvalue=1.4576740169902883e-104)\n",
      "Power_divergenceResult(statistic=416.7826086956522, pvalue=5.125539599882289e-90)\n"
     ]
    }
   ],
   "source": [
    "#[III] BIVARIATE VARIABLE ANALYSIS is going on...\n",
    "#[A] CATEGORICAL VARIBALES & CATEGORICAL VARIABLES is going on...\n",
    "from scipy.stats import chisquare\n",
    "print(chisquare(pd.crosstab(index=raw['Gender'], columns=\"count\"), axis=None))\n",
    "print(chisquare( pd.crosstab(index=raw['Gender'], columns=raw['Education']), axis=None))\n",
    "print(chisquare(pd.crosstab(index=raw['Gender'],columns=raw['Married']), axis=None))\n"
   ]
  },
  {
   "cell_type": "code",
   "execution_count": 291,
   "metadata": {},
   "outputs": [
    {
     "name": "stdout",
     "output_type": "stream",
     "text": [
      "Gender is NOT an important predictor. (Discard Gender from model)\n",
      "Married is IMPORTANT for Prediction\n",
      "Education is IMPORTANT for Prediction\n",
      "Self_Employed is NOT an important predictor. (Discard Self_Employed from model)\n",
      "Credit_History is IMPORTANT for Prediction\n",
      "Property_Area is IMPORTANT for Prediction\n",
      "Loan_Amount_Term is NOT an important predictor. (Discard Loan_Amount_Term from model)\n"
     ]
    }
   ],
   "source": [
    "#[III] BIVARIATE VARIABLE ANALYSIS is going on...\n",
    "#[A] CATEGORICAL VARIBALES & CATEGORICAL VARIABLES is going on...\n",
    "#Chi-Square analysis using class\n",
    "\n",
    "import pandas as pd\n",
    "import numpy as np\n",
    "import scipy.stats as stats\n",
    "from scipy.stats import chi2_contingency\n",
    "\n",
    "class ChiSquare:\n",
    "    def __init__(self, dataframe):\n",
    "        self.df = dataframe\n",
    "        self.p = None #P-Value\n",
    "        self.chi2 = None #Chi Test Statistic\n",
    "        self.dof = None\n",
    "        \n",
    "        self.dfObserved = None\n",
    "        self.dfExpected = None\n",
    "        \n",
    "    def _print_chisquare_result(self, colX, alpha):\n",
    "        result = \"\"\n",
    "        if self.p<alpha:\n",
    "            result=\"{0} is IMPORTANT for Prediction\".format(colX)\n",
    "        else:\n",
    "            result=\"{0} is NOT an important predictor. (Discard {0} from model)\".format(colX)\n",
    "\n",
    "        print(result)\n",
    "        \n",
    "    def TestIndependence(self,colX,colY, alpha=0.05):\n",
    "        X = self.df[colX].astype(str)\n",
    "        Y = self.df[colY].astype(str)\n",
    "        \n",
    "        self.dfObserved = pd.crosstab(Y,X) \n",
    "        chi2, p, dof, expected = stats.chi2_contingency(self.dfObserved.values)\n",
    "        self.p = p\n",
    "        self.chi2 = chi2\n",
    "        self.dof = dof \n",
    "        \n",
    "        self.dfExpected = pd.DataFrame(expected, columns=self.dfObserved.columns, index = self.dfObserved.index)\n",
    "        \n",
    "        self._print_chisquare_result(colX,alpha)\n",
    "\n",
    "df = raw\n",
    "\n",
    "\n",
    "#Initialize ChiSquare Class\n",
    "cT = ChiSquare(df)\n",
    "\n",
    "#Feature Selection\n",
    "testColumns = ['Gender','Married','Education','Self_Employed','Credit_History','Property_Area','Loan_Amount_Term']\n",
    "for var in testColumns:\n",
    "    cT.TestIndependence(colX=var,colY=\"Loan_Status\" )  "
   ]
  },
  {
   "cell_type": "code",
   "execution_count": null,
   "metadata": {},
   "outputs": [],
   "source": [
    "#[III] BIVARIATE VARIABLE ANALYSIS is going on...\n",
    "#[A] CATEGORICAL VARIBALES & CATEGORICAL VARIABLES is going on...\n",
    "\n",
    "# NOTE::::::::::::::::::::::\n",
    "#For two nominal variables a Cramer's V or contingency coefficient are preferred measures \n",
    "#For two ordinal variables, a Spearman correlation or Mantel-Haenszed Chi-Square(NOT YET FOUND IN PYTHON) are preferable over Cramér’s V.\n",
    "#For two metric variables, a Pearson correlation is the preferred measure.\n",
    "#If both variables are dichotomous (resulting in a 2 by 2 table) use a phi coefficient, which is simply a Pearson correlation computed on dichotomous variables.\n"
   ]
  },
  {
   "cell_type": "code",
   "execution_count": null,
   "metadata": {},
   "outputs": [],
   "source": [
    "#[III] BIVARIATE VARIABLE ANALYSIS is going on...\n",
    "#[A] CATEGORICAL VARIBALES & CATEGORICAL VARIABLES is going on...\n",
    "####### For NOMINAL Categorical variables###\n",
    "#1)Phi Coefficient\n",
    "    #A measure of association used for 2 x 2 tables is the Phi coefficient:\n",
    "    #Again, the measure ranges between 0 and 1 with higher values meaning a stronger association.\n",
    "    # Phi = squareroot(chi-square^2 / N) where N is number of samples\n",
    "    \n",
    "    \n",
    "#2)Cramer’s V\n",
    "    #When the crosstabulation table is larger than 2 x 2, Cramer’s V is the best choice:\n",
    "    #Here, N is the sample size and k is the smaller of the number of rows or columns (so it would be 3 for a 3 x 4 table).\n",
    "    # V = squareroot( chi-square^2 / N(k-1) )\n",
    "    \n",
    "    \n",
    "#3) Contingency Coefficient\n",
    "    #The contingency coefficient is an adjustment to phi coefficient, intended to adapt it to tables larger than 2-by-2.\n",
    "    #The contingency coefficient is computed as the square root of chi-square divided by chi-square plus n, the sample size.\n",
    "    #The contingency coefficient will be always less than 1 and will be approaching 1.0 only for large tables.\n",
    "    #The larger the contingency coefficient the stronger the association. \n",
    "    #Some researchers recommend it only for 5-by-5 tables or larger. \n",
    "    #For smaller tables it will underestimated the level of association.\n",
    "    #CC = squareroot( chi-square^2 / (N + chi-square^2) )"
   ]
  },
  {
   "cell_type": "code",
   "execution_count": null,
   "metadata": {},
   "outputs": [],
   "source": [
    "#[III] BIVARIATE VARIABLE ANALYSIS is going on...\n",
    "#[A] CATEGORICAL VARIBALES & CATEGORICAL VARIABLES is going on...\n",
    "####### For ORDINAL Categorical variables###\n",
    "\n",
    "    #1) Mantel-Haenszed Chi-Square\n",
    "    \n",
    "    #2) Spearman Correlation : scipy.stats.spearmanr(pd.crosstab(data['x'],data['y']), axis=0); \n",
    "    #returns Spearman correlation matrix or correlation coefficient (-1 to +1)and p-value"
   ]
  },
  {
   "cell_type": "code",
   "execution_count": 309,
   "metadata": {},
   "outputs": [
    {
     "data": {
      "text/plain": [
       "SpearmanrResult(correlation=0.7874960547832, pvalue=0.0068419269413775765)"
      ]
     },
     "execution_count": 309,
     "metadata": {},
     "output_type": "execute_result"
    }
   ],
   "source": [
    "#[III] BIVARIATE VARIABLE ANALYSIS is going on...\n",
    "#[A] CATEGORICAL VARIBALES & CATEGORICAL VARIABLES is going on...\n",
    "# Spearman Correlation\n",
    "from scipy.stats import spearmanr\n",
    "y=pd.crosstab(raw['Education'],raw['Loan_Amount_Term'])\n",
    "\n",
    "spearmanr(y, axis=1)"
   ]
  },
  {
   "cell_type": "code",
   "execution_count": 327,
   "metadata": {},
   "outputs": [
    {
     "name": "stdout",
     "output_type": "stream",
     "text": [
      "Chi-sqaure 0.09293271015071065\n",
      "P-value 0.7604814131696612\n",
      "Degree of freedom 1\n",
      "Expected matrix:\n",
      " [[ 94.74918567 208.25081433]\n",
      " [ 97.25081433 213.74918567]]\n",
      "Sample Size N = 4\n",
      "Cramers V = 0.15242433381083764\n"
     ]
    }
   ],
   "source": [
    "#[III] BIVARIATE VARIABLE ANALYSIS is going on...\n",
    "#[A] CATEGORICAL VARIBALES & CATEGORICAL VARIABLES is going on...\n",
    "#Cramer's V\n",
    "y=pd.crosstab(raw['Gender'],raw['Loan_Status'])\n",
    "chi2, p, dof, expected = stats.chi2_contingency(y)\n",
    "print('Chi-sqaure',chi2)\n",
    "print('P-value',p)\n",
    "print('Degree of freedom',dof)\n",
    "print('Expected matrix:\\n',expected)\n",
    "n =sum(y.shape)\n",
    "print('Sample Size N =',n)\n",
    "V=np.sqrt(chi2 / (n*(min(y.shape)-1)))\n",
    "print('Cramers V =',V) # varies from 0 to 1 for nominal variables; 0.15 is closer to zero means independent variables\n"
   ]
  },
  {
   "cell_type": "code",
   "execution_count": null,
   "metadata": {},
   "outputs": [],
   "source": []
  },
  {
   "cell_type": "code",
   "execution_count": 72,
   "metadata": {},
   "outputs": [
    {
     "name": "stderr",
     "output_type": "stream",
     "text": [
      "/home/ashu6811/miniconda3/lib/python3.6/site-packages/matplotlib/axes/_axes.py:6462: UserWarning: The 'normed' kwarg is deprecated, and has been replaced by the 'density' kwarg.\n",
      "  warnings.warn(\"The 'normed' kwarg is deprecated, and has been \"\n",
      "/home/ashu6811/miniconda3/lib/python3.6/site-packages/matplotlib/axes/_axes.py:6462: UserWarning: The 'normed' kwarg is deprecated, and has been replaced by the 'density' kwarg.\n",
      "  warnings.warn(\"The 'normed' kwarg is deprecated, and has been \"\n"
     ]
    },
    {
     "data": {
      "text/plain": [
       "<seaborn.axisgrid.JointGrid at 0x7f44603c2208>"
      ]
     },
     "execution_count": 72,
     "metadata": {},
     "output_type": "execute_result"
    },
    {
     "data": {
      "image/png": "[encoded data removed]",
      "text/plain": [
       "<Figure size 432x432 with 3 Axes>"
      ]
     },
     "metadata": {},
     "output_type": "display_data"
    }
   ],
   "source": [
    "#[III] BIVARIATE VARIABLE ANALYSIS is going on...\n",
    "#[B] CONTINUOUS VARIABLES & CONTINUOUS VARIABLES\n",
    "    #1)  ApplicantIncome & CoapplicantIncome\n",
    "sns.jointplot(x='ApplicantIncome', y='CoapplicantIncome', data =raw, kind='scatter') #using seaborn; kind must be either 'scatter', 'reg', 'resid', 'kde', or 'hex'"
   ]
  },
  {
   "cell_type": "code",
   "execution_count": 42,
   "metadata": {},
   "outputs": [
    {
     "data": {
      "text/plain": [
       "<matplotlib.collections.PathCollection at 0x7f44602a9438>"
      ]
     },
     "execution_count": 42,
     "metadata": {},
     "output_type": "execute_result"
    },
    {
     "data": {
      "image/png": "[encoded data removed]",
      "text/plain": [
       "<Figure size 432x288 with 1 Axes>"
      ]
     },
     "metadata": {},
     "output_type": "display_data"
    }
   ],
   "source": [
    "plt.scatter(raw['ApplicantIncome'], raw['CoapplicantIncome']) #using matplotlib"
   ]
  },
  {
   "cell_type": "code",
   "execution_count": 74,
   "metadata": {},
   "outputs": [
    {
     "name": "stdout",
     "output_type": "stream",
     "text": [
      "Corelation Coefficient = -0.11660458122889966\n",
      "Corelation Coefficient Matrix: \n",
      " [[ 1.         -0.11660458]\n",
      " [-0.11660458  1.        ]]\n",
      "Covariance = -2084490.3357900244\n",
      "Covariance Matrix: \n",
      " [[37320390.16718121 -2084490.33579002]\n",
      " [-2084490.33579002  8562929.51838722]]\n"
     ]
    }
   ],
   "source": [
    "# corelation coefficient and Covariance \n",
    "cor_value = raw['ApplicantIncome'].corr(raw['CoapplicantIncome']) # using Pandas; =raw['CoapplicantIncome'].corr(raw['ApplicantIncome'])\n",
    "cor_matrix = np.corrcoef(raw['ApplicantIncome'], raw['CoapplicantIncome']) #  Using Numpy; to print corelation coefficient matrix R_{ij} = \\frac{ C_{ij} } { \\sqrt{ C_{ii} * C_{jj} } }\n",
    "cov_matrix = np.cov(raw['ApplicantIncome'],raw['CoapplicantIncome'])\n",
    "cov_value = raw['ApplicantIncome'].cov(raw['CoapplicantIncome'])\n",
    "\n",
    "print ('Corelation Coefficient =', cor_value)\n",
    "print ('Corelation Coefficient Matrix: \\n', cor_matrix)\n",
    "print('Covariance =', cov_value)\n",
    "print('Covariance Matrix: \\n', cov_matrix)\n",
    "\n",
    "# np.var(), np.stdev(), np.mean(),np.median() ,st.mode() where numpy as np : where statistics as st\n",
    "# corelation Coefficient range from -1 to +1\n",
    "# therfore as the value is -0.12 which is close to zero; hence very low dependency of variables on each other\n",
    "# similar is seen in the scatter plot graph : slightly negative but very far away from negative linearity.\n"
   ]
  },
  {
   "cell_type": "code",
   "execution_count": null,
   "metadata": {},
   "outputs": [],
   "source": [
    "#[III] BIVARIATE VARIABLE ANALYSIS is going on...\n",
    "#[B] CONTINUOUS VARIABLES & CONTINUOUS VARIABLES\n",
    "    #2)  ApplicantIncome & LoanAmount\n"
   ]
  },
  {
   "cell_type": "code",
   "execution_count": null,
   "metadata": {},
   "outputs": [],
   "source": [
    "#[III] BIVARIATE VARIABLE ANALYSIS is going on...\n",
    "#[B] CONTINUOUS VARIABLES & CONTINUOUS VARIABLES\n",
    "    #3)  CoapplicantIncome & LoanAmount"
   ]
  },
  {
   "cell_type": "code",
   "execution_count": 99,
   "metadata": {},
   "outputs": [
    {
     "name": "stdout",
     "output_type": "stream",
     "text": [
      "Corelation Coefficient Matrix:\n",
      "                    ApplicantIncome  CoapplicantIncome  LoanAmount\n",
      "ApplicantIncome           1.000000          -0.116605    0.570909\n",
      "CoapplicantIncome        -0.116605           1.000000    0.188619\n",
      "LoanAmount                0.570909           0.188619    1.000000\n"
     ]
    },
    {
     "data": {
      "image/png": "[encoded data removed]",
      "text/plain": [
       "<Figure size 540x540 with 9 Axes>"
      ]
     },
     "metadata": {},
     "output_type": "display_data"
    }
   ],
   "source": [
    "#[III] BIVARIATE VARIABLE ANALYSIS is going on...\n",
    "#[B] CONTINUOUS VARIABLES & CONTINUOUS VARIABLES\n",
    "    #1, 2, 3)  ApplicantIncome & CoapplicantIncome & LoanAmount\n",
    "grids = sns.PairGrid(data = raw,  vars = ['ApplicantIncome', 'CoapplicantIncome','LoanAmount'])\n",
    "grids.map(plt.scatter)\n",
    "\n",
    "print('Corelation Coefficient Matrix:\\n',raw.drop(['Loan_Amount_Term','Credit_History'], axis = 1).corr()) # correlation matrix\n",
    "\n",
    "# as seen in graphs and corelation matrix only dependency of positive linearity exists between LoanAmount and Applicant Income."
   ]
  },
  {
   "cell_type": "code",
   "execution_count": 113,
   "metadata": {},
   "outputs": [
    {
     "name": "stdout",
     "output_type": "stream",
     "text": [
      "Corelation Coefficient Value of Total Income with Loan Amount = 0.6246206959984655\n"
     ]
    },
    {
     "data": {
      "text/plain": [
       "<matplotlib.axes._subplots.AxesSubplot at 0x7f4451685fd0>"
      ]
     },
     "execution_count": 113,
     "metadata": {},
     "output_type": "execute_result"
    },
    {
     "data": {
      "image/png": "[encoded data removed]",
      "text/plain": [
       "<Figure size 432x288 with 2 Axes>"
      ]
     },
     "metadata": {},
     "output_type": "display_data"
    }
   ],
   "source": [
    "Temp_TotalIncome = raw['ApplicantIncome'] + raw['CoapplicantIncome']\n",
    "Temp_TotalIncome.corr(raw['LoanAmount'])\n",
    "print('Corelation Coefficient Value of Total Income with Loan Amount =', Temp_TotalIncome.corr(raw['LoanAmount']) )\n",
    "\n",
    "# As the corr_coef for the total income increases but doesn't increase drastically\n",
    "plt.scatter(Temp_TotalIncome, raw['LoanAmount'])\n",
    "# let us add new attribute to the dataframe for better accuracy\n",
    "raw['TotalIncome']= Temp_TotalIncome\n",
    "raw.apply(lambda x: sum(x.isnull()), axis =0)\n",
    "sns.heatmap(raw.drop(['Loan_Amount_Term','Credit_History'], axis = 1).corr(), annot=True , cmap='terrain')"
   ]
  },
  {
   "cell_type": "code",
   "execution_count": null,
   "metadata": {},
   "outputs": [],
   "source": [
    "#[III] BIVARIATE VARIABLE ANALYSIS is going on...\n",
    "#[C] CATEGORICAL VARIABLES & CONTINUOUS VARIABLES\n",
    "    #While exploring relation between categorical and continuous variables, we can draw box plots for each level of categorical variables.\n",
    "    #If levels are small in number, it will not show the statistical significance.\n",
    "    #To look at the statistical significance we can perform Z-test, T-test or ANOVA.\n",
    "    \n",
    "    #1) Z-test/T-test:\n",
    "    #Either test assess whether mean of two groups are statistically different from each other or not.\n",
    "    #If the probability of Z is small then the difference of two averages is more significant. \n",
    "    #The T-test is very similar to Z-test but it is used when number of observation for both categories is less than 30.\n",
    "    \n",
    "    \n",
    "    #2) ANOVA:\n",
    "    #It assesses whether the average of more than two groups is statistically different.\n",
    "    \n",
    "    \n",
    "    \n",
    "#sns.boxplot(x='LoanAmount', y='Education' ,data=raw)\n",
    "#raw.boxplot(column=['LoanAmount','TotalIncome'], by=['Education', 'Gender'] )\n",
    "#sns.barplot(x='Gender',y='LoanAmount', data=raw) # or sns.barplot(raw['Gender'],raw['LoanAmount'])"
   ]
  },
  {
   "cell_type": "code",
   "execution_count": 328,
   "metadata": {},
   "outputs": [
    {
     "name": "stdout",
     "output_type": "stream",
     "text": [
      "Chi-sqaure 0.09293271015071065\n",
      "P-value 0.7604814131696612\n",
      "Degree of freedom 1\n",
      "Expected matrix:\n",
      " [[ 94.74918567 208.25081433]\n",
      " [ 97.25081433 213.74918567]]\n"
     ]
    },
    {
     "data": {
      "text/plain": [
       "0.3048486676216753"
      ]
     },
     "execution_count": 328,
     "metadata": {},
     "output_type": "execute_result"
    }
   ],
   "source": [
    "# Z-test (number of rows >30)\n",
    "y=pd.crosstab(raw['Gender'],raw['Loan_Status'])\n",
    "chi2, p, dof, expected = stats.chi2_contingency(y)\n",
    "print('Chi-sqaure',chi2)\n",
    "print('P-value',p)\n",
    "print('Degree of freedom',dof)\n",
    "print('Expected matrix:\\n',expected)\n",
    "\n",
    "\n",
    "Z=chi2**0.5\n",
    "Z\n",
    "\n",
    "z1, p_value1 = sm.stats.proportions_ztest([s1, s2], [n1, n2])"
   ]
  },
  {
   "cell_type": "code",
   "execution_count": null,
   "metadata": {},
   "outputs": [],
   "source": [
    "Gender               13\n",
    "Married               3\n",
    "Dependents           15\n",
    "Education             0\n",
    "Self_Employed        32\n",
    "ApplicantIncome       0\n",
    "CoapplicantIncome     0\n",
    "LoanAmount           22\n",
    "Loan_Amount_Term     14\n",
    "Credit_History       50\n",
    "Property_Area         0\n",
    "Loan_Status           0\n",
    "TotalIncome           0\n",
    "dtype: int64\n",
    "    \n",
    "#VARIABLE CATEGORY\n",
    "# [A] Categorical \n",
    " #1) Gender \n",
    " #2) Married\n",
    " #3) Dependents\n",
    " #4) Education\n",
    " #5) Self_Employed\n",
    " #6) Credit_History *int\n",
    " #7) Property_Area\n",
    " #8) Loan_Status [LABEL/TARGET/OUTPUT]\n",
    " #9) Loan_Amount_Term *float\n",
    "\n",
    "# [B] Continuous \n",
    " #1) ApplicantIncome\n",
    " #2) CoapplicantIncome\n",
    " #3) LoanAmount\n",
    " #4) TotalIncome [New = ApplicantIncome + CoapplicantIncome]"
   ]
  }
 ],
 "metadata": {
  "kernelspec": {
   "display_name": "Python 3",
   "language": "python",
   "name": "python3"
  },
  "language_info": {
   "codemirror_mode": {
    "name": "ipython",
    "version": 3
   },
   "file_extension": ".py",
   "mimetype": "text/x-python",
   "name": "python",
   "nbconvert_exporter": "python",
   "pygments_lexer": "ipython3",
   "version": "3.6.4"
  }
 },
 "nbformat": 4,
 "nbformat_minor": 2
}
