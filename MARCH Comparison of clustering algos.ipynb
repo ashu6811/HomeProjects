{
 "cells": [
  {
   "cell_type": "markdown",
   "metadata": {},
   "source": [
    "\n",
    "K-Means & Other Clustering Algorithms: A Quick Intro with Python\n",
    "    \n",
    "https://www.learndatasci.com/tutorials/k-means-clustering-algorithms-python-intro/"
   ]
  },
  {
   "cell_type": "code",
   "execution_count": 35,
   "metadata": {},
   "outputs": [],
   "source": [
    "#Getting Started with Clustering in Python\n",
    "# import \n",
    "from sklearn import cluster\n",
    "\n",
    "import pandas as pd \n",
    "import numpy as np\n",
    "\n",
    "import seaborn as sns\n",
    "import matplotlib.pyplot as plt\n",
    "\n",
    "from sklearn.metrics.cluster import normalized_mutual_info_score\n",
    "from sklearn.metrics.cluster import adjusted_rand_score\n",
    "\n"
   ]
  },
  {
   "cell_type": "markdown",
   "metadata": {},
   "source": []
  },
  {
   "cell_type": "code",
   "execution_count": 41,
   "metadata": {},
   "outputs": [
    {
     "name": "stdout",
     "output_type": "stream",
     "text": [
      "(3000, 2)\n",
      "Index(['V1', 'V2'], dtype='object')\n",
      "V1 classes: [ 2.072345 17.93671   1.083576 ... 64.46532  90.72282  64.87976 ] \n",
      "V2 classes: [ -3.241693  15.78481    7.319176 ... -10.50136  -12.25584  -24.87731 ]\n"
     ]
    }
   ],
   "source": [
    "#Dataset: available via networkx library (see code below)\n",
    "data = pd.read_csv('xclara.csv')\n",
    "print(data.shape)\n",
    "print(data.columns)\n",
    "print('V1 classes:',data['V1'].unique(), '\\nV2 classes:', data['V2'].unique())"
   ]
  },
  {
   "cell_type": "code",
   "execution_count": 102,
   "metadata": {},
   "outputs": [
    {
     "data": {
      "text/plain": [
       "(200, 2)"
      ]
     },
     "execution_count": 102,
     "metadata": {},
     "output_type": "execute_result"
    },
    {
     "data": {
      "image/png": "[encoded data removed]",
      "text/plain": [
       "<Figure size 432x288 with 1 Axes>"
      ]
     },
     "metadata": {},
     "output_type": "display_data"
    }
   ],
   "source": [
    "#visulasize data using scatter plot\n",
    "f1 = data['V1'].values\n",
    "f2 = data['V2'].values\n",
    "\n",
    "plt.scatter(f1,f2,c='black', s=2)\n",
    "\n",
    "data_short = data.loc[0:199,]\n",
    "data_short.shape"
   ]
  },
  {
   "cell_type": "markdown",
   "metadata": {},
   "source": [
    "\n",
    "Metrics & Plotting\n",
    "\n",
    "Well, it is time to choose which algorithm is more suitable for our data. A simple visualization of the result might work on small datasets, but imagine a graph with one thousand, or even ten thousand, nodes. That would be slightly chaotic for the human eye. So, let calculate the Adjusted Rand Score (ARS) and the Normalized Mutual Information (NMI) metrics for easier interpretation.\n",
    "\n",
    "Normalized Mutual Information (NMI)\n",
    "\n",
    "Mutual Information of two random variables is a measure of the mutual dependence between the two variables. Normalized Mutual Information is a normalization of the Mutual Information (MI) score to scale the results between 0 (no mutual information) and 1 (perfect correlation). In other words, 0 means dissimilar and 1 means\n",
    "a perfect match.\n",
    "\n",
    "Adjusted Rand Score (ARS)\n",
    "\n",
    "Adjusted Rand Score on the other hand, computes a similarity measure between two clusters. ARS considers all pairs of samples and counts pairs that are assigned in the same or different clusters in the predicted and true clusters.\n",
    "\n",
    "If that's a little weird to think about, have in mind that, for now, 0 is the lowest similarity and 1 is the highest."
   ]
  },
  {
   "cell_type": "code",
   "execution_count": 155,
   "metadata": {},
   "outputs": [],
   "source": [
    "# Cluster\n",
    "\n",
    "# define number of clusters\n",
    "\n",
    "model_kmeans = cluster.KMeans(n_clusters = 3)\n",
    "model_agglomerative= cluster.AgglomerativeClustering(n_clusters = 3, linkage=\"ward\") \n",
    "model_spectral = cluster.SpectralClustering(n_clusters = 3, n_init=200)\n",
    "model_affinity = cluster.AffinityPropagation(damping =0.6)\n",
    "\n",
    "# Fitting the inputs\n",
    "result_kmeans = model_kmeans.fit(data)\n",
    "result_agglomerative = model_agglomerative.fit(data)\n",
    "result_spectral = model_spectral.fit(data_short)\n",
    "result_affinity = model_affinity.fit(data_short)"
   ]
  },
  {
   "cell_type": "code",
   "execution_count": 156,
   "metadata": {},
   "outputs": [
    {
     "name": "stdout",
     "output_type": "stream",
     "text": [
      "Kmeans labels:\n",
      " [0 0 0 ... 2 2 2] (3000,)\n",
      "[0 0 0 ... 2 2 2] (3000,)\n",
      "[0 0 0 ... 2 2 2] (3000,)\n",
      "\n",
      "\n",
      "Agglomerative labels:\n",
      " [2 2 2 ... 1 1 1] (3000,)\n",
      "\n",
      "\n",
      "Spectrall labels:\n",
      " [0 1 1 1 0 0 0 0 0 0 0 0 0 0 0 0 0 0 0 0 0 0 0 0 0 0 0 1 0 0 1 0 1 0 0 1 0\n",
      " 0 0 0 0 1 1 1 0 0 0 0 0 0 0 1 0 1 0 0 0 0 1 0 0 0 1 1 0 0 0 1 0 0 0 0 0 0\n",
      " 0 1 1 0 1 1 1 1 0 1 2 0 0 1 1 0 0 0 0 0 1 0 1 0 0 0 0 0 0 0 0 0 0 0 0 2 0\n",
      " 0 0 0 0 0 0 0 0 0 0 0 0 0 0 0 0 0 0 1 1 1 0 1 0 0 0 0 0 0 0 0 0 0 1 0 1 0\n",
      " 1 0 0 1 0 1 0 0 0 0 0 0 1 1 1 0 0 0 1 0 0 0 0 1 0 0 1 0 0 0 0 0 0 0 0 1 1\n",
      " 0 0 0 0 0 0 0 1 0 1 0 0 0 1 1] (200,)\n",
      "\n",
      "\n",
      "Affinity labels: [ 1  3  9 10 13  0 13  9 13  1 12  9  6  1 11 12  6  4 12  4  3 11 12  1\n",
      "  9 12  7 10  4  0  6 11  1  2  5 10  3  9  5  3  4 10 11 10  5  6  9 13\n",
      "  4  3  1 10 13  9  3 12 13  6  1  7  2  1  9  1  6 12 12  4 11  1  0  7\n",
      "  4  9  9 10 10 10 10  4 10  6  3  3 12  4  0  6 13 13  2  3 11  3  9 12\n",
      "  1  5 13  8  8 10 10 12  5  6  7 13  4 12  7  3  1  4  2  5  6  1 12  5\n",
      " 12  8  4 10 11 10  3 10  8  6  1 11 11  3  9  6  2  7  3 11  6 13  3  9\n",
      "  3  8 13  5  3  8  5 10  1 10 12  8  7 11  3  9 13 13 10 11  6  8  6 13\n",
      "  8  4 10 13  4 11  9  3  5 13 11  1  0  0 12  6  1  4  8 10  0 12 12  9\n",
      "  6 13 13  6 10  9  1  4] (200,)\n",
      "[ 1  3  9 10 13  0 13  9 13  1 12  9  6  1 11 12  6  4 12  4  3 11 12  1\n",
      "  9 12  7 10  4  0  6 11  1  2  5 10  3  9  5  3  4 10 11 10  5  6  9 13\n",
      "  4  3  1 10 13  9  3 12 13  6  1  7  2  1  9  1  6 12 12  4 11  1  0  7\n",
      "  4  9  9 10 10 10 10  4 10  6  3  3 12  4  0  6 13 13  2  3 11  3  9 12\n",
      "  1  5 13  8  8 10 10 12  5  6  7 13  4 12  7  3  1  4  2  5  6  1 12  5\n",
      " 12  8  4 10 11 10  3 10  8  6  1 11 11  3  9  6  2  7  3 11  6 13  3  9\n",
      "  3  8 13  5  3  8  5 10  1 10 12  8  7 11  3  9 13 13 10 11  6  8  6 13\n",
      "  8  4 10 13  4 11  9  3  5 13 11  1  0  0 12  6  1  4  8 10  0 12 12  9\n",
      "  6 13 13  6 10  9  1  4] (200,)\n",
      "[1 3 9 ... 2 2 2] (3000,)\n"
     ]
    }
   ],
   "source": [
    "#getting labels (array having assigned cluster values to each row point)\n",
    "# labels using predict (only used for kmeans and affinity clustering)\n",
    "label_kmeans2 = result_kmeans.predict(data)\n",
    "label_affinity2 = result_affinity.predict(data_short)\n",
    "label_affinity3 = result_affinity.predict(data)\n",
    "\n",
    "label_kmeans = result_kmeans.labels_\n",
    "label_kmeans3= model_kmeans.labels_\n",
    "label_agglomerative = model_agglomerative.labels_\n",
    "label_spectral = model_spectral.labels_\n",
    "label_affinity = model_affinity.labels_\n",
    "\n",
    "#NOTE: we can also use fit_predict() for fitting and predicting the labels for the models in one step\n",
    "\n",
    "print('Kmeans labels:\\n',label_kmeans2, label_kmeans2.shape)\n",
    "print(label_kmeans3,label_kmeans3.shape)\n",
    "print(label_kmeans,label_kmeans.shape)\n",
    "\n",
    "\n",
    "print('\\n\\nAgglomerative labels:\\n',label_agglomerative,label_agglomerative.shape)\n",
    "print('\\n\\nSpectrall labels:\\n',label_spectral, label_spectral.shape)\n",
    "print('\\n\\nAffinity labels:',label_affinity, label_affinity.shape)\n",
    "print(label_affinity2, label_affinity2.shape)\n",
    "print(label_affinity3, label_affinity3.shape)"
   ]
  },
  {
   "cell_type": "code",
   "execution_count": 160,
   "metadata": {},
   "outputs": [
    {
     "name": "stdout",
     "output_type": "stream",
     "text": [
      "KMeans Centroids:\n",
      " [[  9.4780459   10.686052  ]\n",
      " [ 40.68362784  59.71589274]\n",
      " [ 69.92418447 -10.11964119]] \n",
      "Number of clusters 3\n",
      "\n",
      "\n",
      "Agglomerative result atributes:\n",
      "Number of Leaves: 3000 \n",
      "components: 1\n",
      "\n",
      "\n",
      "Spectral Matrix:\n",
      " [[1.00000000e+000 3.01719191e-267 1.37307313e-049 ... 9.72995634e-146\n",
      "  6.30069508e-009 3.79843337e-039]\n",
      " [3.01719191e-267 1.00000000e+000 3.33877766e-155 ... 4.15207906e-170\n",
      "  0.00000000e+000 5.87401845e-229]\n",
      " [1.37307313e-049 3.33877766e-155 1.00000000e+000 ... 1.94365195e-027\n",
      "  1.23815373e-094 5.55069597e-008]\n",
      " ...\n",
      " [9.72995634e-146 4.15207906e-170 1.94365195e-027 ... 1.00000000e+000\n",
      "  9.22646529e-214 1.78956516e-040]\n",
      " [6.30069508e-009 0.00000000e+000 1.23815373e-094 ... 9.22646529e-214\n",
      "  1.00000000e+000 3.42265266e-072]\n",
      " [3.79843337e-039 5.87401845e-229 5.55069597e-008 ... 1.78956516e-040\n",
      "  3.42265266e-072 1.00000000e+000]]\n",
      "\n",
      "\n",
      "Affintiy Centroids:\n",
      " [[ 24.16993     32.02478   ]\n",
      " [  0.09228785  -6.651035  ]\n",
      " [ 28.50607     -9.091833  ]\n",
      " [ 18.65383     17.21672   ]\n",
      " [ -1.922306     4.888493  ]\n",
      " [ 26.83892     13.13713   ]\n",
      " [  7.950795     6.811407  ]\n",
      " [-10.59094     15.40292   ]\n",
      " [ -3.349734    26.6599    ]\n",
      " [  1.289581    10.09948   ]\n",
      " [  9.70176     12.33497   ]\n",
      " [ 13.45815     -4.13764   ]\n",
      " [ 10.4399      25.7741    ]\n",
      " [ 17.95419      4.455694  ]] \n",
      "Number of clusters 14\n"
     ]
    }
   ],
   "source": [
    "#Centroid values\n",
    "# they both don't  work\n",
    "    #centroids_agglomerative = result_agglomerative.cluster_centers_\n",
    "    #centroids_spectral = result_spectral.cluster_centers_\n",
    "    \n",
    "centroids_kmeans = result_kmeans.cluster_centers_\n",
    "centroids_affinity = result_affinity.cluster_centers_\n",
    "\n",
    "\n",
    "print('KMeans Centroids:\\n', centroids_kmeans, '\\nNumber of clusters',centroids_kmeans.shape[0])\n",
    "print('\\n\\nAgglomerative result atributes:\\nNumber of Leaves:',  result_agglomerative.n_leaves_, '\\ncomponents:', result_agglomerative.n_components_)\n",
    "print('\\n\\nSpectral Matrix:\\n', result_spectral.affinity_matrix_)\n",
    "print('\\n\\nAffintiy Centroids:\\n', centroids_affinity, '\\nNumber of clusters',centroids_affinity.shape[0])\n"
   ]
  },
  {
   "cell_type": "code",
   "execution_count": null,
   "metadata": {},
   "outputs": [],
   "source": []
  },
  {
   "cell_type": "code",
   "execution_count": null,
   "metadata": {},
   "outputs": [],
   "source": []
  },
  {
   "cell_type": "code",
   "execution_count": null,
   "metadata": {},
   "outputs": [],
   "source": [
    "circle = plt.Circle((0.5,0.5),0.5, color='b', fill=False)\n",
    "\n",
    "ax = plt.gca()\n",
    "\n",
    "# change default range so that new circles will work\n",
    "ax.set_xlim((-30, 130))\n",
    "ax.set_ylim((-50, 100))\n",
    "\n",
    "p1 = plt.scatter(f1, f2, c='g',s=4)\n",
    "p2 = plt.scatter(column_1,column_2, c='black',s=200, marker='*')\n",
    "\n",
    "c1 = plt.Circle((column_1[0], column_2[0]), 25, color='red' , linewidth= 2, fill=False)\n",
    "c2 = plt.Circle((column_1[1], column_2[1]), 25, color='red' , linewidth= 2, fill=False)\n",
    "c3 = plt.Circle((column_1[2], column_2[2]), 25, color='red' , linewidth= 2, fill=False)\n",
    "ax.add_artist(c1)\n",
    "ax.add_artist(c2)\n",
    "ax.add_artist(c3)\n",
    "ax.add_artist(p1)\n",
    "ax.add_artist(p2)\n",
    "\n",
    "ax.label_"
   ]
  }
 ],
 "metadata": {
  "kernelspec": {
   "display_name": "Python 3",
   "language": "python",
   "name": "python3"
  },
  "language_info": {
   "codemirror_mode": {
    "name": "ipython",
    "version": 3
   },
   "file_extension": ".py",
   "mimetype": "text/x-python",
   "name": "python",
   "nbconvert_exporter": "python",
   "pygments_lexer": "ipython3",
   "version": "3.6.4"
  }
 },
 "nbformat": 4,
 "nbformat_minor": 2
}
