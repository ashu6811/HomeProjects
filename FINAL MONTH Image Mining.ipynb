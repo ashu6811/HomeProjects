{
 "cells": [
  {
   "cell_type": "code",
   "execution_count": 16,
   "metadata": {
    "collapsed": false
   },
   "outputs": [],
   "source": [
    "import os\n",
    "\n",
    "import numpy as np\n",
    "\n",
    "import pandas as pd\n",
    "\n",
    "import scipy\n",
    "\n",
    "import sklearn\n",
    "\n",
    "from keras.models import Sequential\n",
    "\n",
    "import skimage\n",
    "\n",
    "import cv2 \n",
    "\n",
    "import io\n",
    "\n",
    "import keras\n",
    "\n",
    "%matplotlib inline"
   ]
  },
  {
   "cell_type": "code",
   "execution_count": 5,
   "metadata": {
    "collapsed": false
   },
   "outputs": [],
   "source": [
    "#Defining the File Path\n",
    "\n",
    "cat=os.listdir(\"/home/ashu6811/Downloads/kaggle_dataset/train200/cat\")\n",
    "dog=os.listdir(\"/home/ashu6811/Downloads/kaggle_dataset/train200/dog\") \n",
    "\n",
    "filepath=\"/home/ashu6811/Downloads/kaggle_dataset/train200/cat/\"\n",
    "filepath2=\"/home/ashu6811/Downloads/kaggle_dataset/train200/dog/\""
   ]
  },
  {
   "cell_type": "code",
   "execution_count": 6,
   "metadata": {
    "collapsed": false
   },
   "outputs": [],
   "source": [
    "#Loading the Images\n",
    "\n",
    "images=[]\n",
    "\n",
    "label = []\n",
    "\n",
    "#for cat images\n",
    "\n",
    "for i in cat:\n",
    "\n",
    "    image = scipy.misc.imread(filepath+i)\n",
    "\n",
    "    images.append(image) \n",
    "\n",
    "    label.append(0)\n",
    "\n",
    "#for dog images\n",
    "\n",
    "for i in dog:\n",
    "\n",
    "    image = scipy.misc.imread(filepath2+i)\n",
    "\n",
    "    images.append(image)\n",
    "\n",
    "    label.append(1)"
   ]
  },
  {
   "cell_type": "code",
   "execution_count": 9,
   "metadata": {
    "collapsed": false
   },
   "outputs": [],
   "source": [
    "#resizing all the images\n",
    "for i in range(0,200):\n",
    "    images[i]=cv2.resize(images[i],(300,300))"
   ]
  },
  {
   "cell_type": "code",
   "execution_count": 10,
   "metadata": {
    "collapsed": true
   },
   "outputs": [],
   "source": [
    "#converting images to arrays\n",
    "\n",
    "images=np.array(images)\n",
    "\n",
    "label=np.array(label)"
   ]
  },
  {
   "cell_type": "code",
   "execution_count": 11,
   "metadata": {
    "collapsed": true
   },
   "outputs": [],
   "source": [
    "# Defining the hyperparameters\n",
    "\n",
    "filters=10\n",
    "\n",
    "filtersize=(5,5)\n",
    "\n",
    "epochs =5\n",
    "\n",
    "batchsize=128\n",
    "\n",
    "input_shape=(300,300,3)"
   ]
  },
  {
   "cell_type": "code",
   "execution_count": 22,
   "metadata": {
    "collapsed": false
   },
   "outputs": [],
   "source": [
    "#Converting the target variable to the required size\n",
    "\n",
    "from keras.utils.np_utils import to_categorical\n",
    "label = to_categorical(label)"
   ]
  },
  {
   "cell_type": "code",
   "execution_count": 49,
   "metadata": {
    "collapsed": false
   },
   "outputs": [
    {
     "name": "stdout",
     "output_type": "stream",
     "text": [
      "Train on 140 samples, validate on 60 samples\n",
      "Epoch 1/5\n",
      "140/140 [==============================] - 140s - loss: 4.9102 - acc: 0.6429 - val_loss: 16.1181 - val_acc: 0.0000e+00\b\b\b\b\b\b\b\b\b\b\b\b\b\b\b\b\b\b\b\b\b\b\b\b\b\b\b\b\b\b\b\b\b\b\b\b\b\b\b\b\n",
      "Epoch 2/5\n",
      "140/140 [==============================] - 64s - loss: 4.6052 - acc: 0.7143 - val_loss: 16.1181 - val_acc: 0.0000e+00\b\b\b\b\b\b\b\b\b\b\b\b\b\b\b\b\b\b\b\b\b\b\b\b\b\b\b\b\b\b\b\b\b\b\b\b\b\b\b\b\b\n",
      "Epoch 3/5\n",
      "140/140 [==============================] - 34s - loss: 4.6052 - acc: 0.7143 - val_loss: 16.1181 - val_acc: 0.0000e+00\b\b\b\b\b\b\b\b\b\b\b\b\b\b\b\b\b\b\b\b\b\b\b\b\b\b\b\b\b\b\b\b\b\b\b\b\b\b\b\b\b\n",
      "Epoch 4/5\n",
      "140/140 [==============================] - 28s - loss: 4.6052 - acc: 0.7143 - val_loss: 16.1181 - val_acc: 0.0000e+00\b\b\b\b\b\b\b\b\b\b\b\b\b\b\b\b\b\b\b\b\b\b\b\b\b\b\b\b\b\b\b\b\b\b\b\b\b\b\b\b\b\n",
      "Epoch 5/5\n",
      "140/140 [==============================] - 21s - loss: 4.6052 - acc: 0.7143 - val_loss: 16.1181 - val_acc: 0.0000e+00\b\b\b\b\b\b\b\b\b\b\b\b\b\b\b\b\b\b\b\b\b\b\b\b\b\b\b\b\b\b\b\b\b\b\b\b\b\b\b\b\b\n",
      "____________________________________________________________________________________________________\n",
      "Layer (type)                     Output Shape          Param #     Connected to                     \n",
      "====================================================================================================\n",
      "input_26 (InputLayer)            (None, 300, 300, 3)   0                                            \n",
      "____________________________________________________________________________________________________\n",
      "convolution2d_10 (Convolution2D) (None, 296, 296, 10)  760         input_26[0][0]                   \n",
      "____________________________________________________________________________________________________\n",
      "maxpooling2d_18 (MaxPooling2D)   (None, 148, 148, 10)  0           convolution2d_10[0][0]           \n",
      "____________________________________________________________________________________________________\n",
      "flatten_18 (Flatten)             (None, 219040)        0           maxpooling2d_18[0][0]            \n",
      "____________________________________________________________________________________________________\n",
      "dense_8 (Dense)                  (None, 2)             438082      flatten_18[0][0]                 \n",
      "====================================================================================================\n",
      "Total params: 438842\n",
      "____________________________________________________________________________________________________\n"
     ]
    }
   ],
   "source": [
    "#Defining the model\n",
    "\n",
    "model = Sequential()\n",
    "\n",
    "model.add(keras.layers.InputLayer(input_shape=input_shape))\n",
    "model.add(keras.layers.convolutional.Conv2D(filters, nb_row=5, nb_col=5, subsample=(1, 1), border_mode='valid', activation='relu'))\n",
    "\n",
    "model.add(keras.layers.MaxPooling2D(pool_size=(2, 2)))\n",
    "model.add(keras.layers.Flatten())\n",
    "model.add(keras.layers.Dense(output_dim=2, input_dim=50,activation='softmax'))\n",
    "model.compile(loss='categorical_crossentropy', optimizer='adam', metrics=['accuracy']) \n",
    "model.fit(images, label, nb_epoch=epochs, batch_size=batchsize,validation_split=0.3)\n",
    "model.summary()\n",
    "\n"
   ]
  }
 ],
 "metadata": {
  "kernelspec": {
   "display_name": "Python 3",
   "language": "python",
   "name": "python3"
  },
  "language_info": {
   "codemirror_mode": {
    "name": "ipython",
    "version": 3
   },
   "file_extension": ".py",
   "mimetype": "text/x-python",
   "name": "python",
   "nbconvert_exporter": "python",
   "pygments_lexer": "ipython3",
   "version": "3.4.5"
  }
 },
 "nbformat": 4,
 "nbformat_minor": 2
}
