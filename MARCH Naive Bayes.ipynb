{
 "cells": [
  {
   "cell_type": "markdown",
   "metadata": {},
   "source": [
    "Naive Bayes Classification With Sklearn\n",
    "\n",
    "https://blog.sicara.com/naive-bayes-classifier-sklearn-python-example-tips-42d100429e44\n",
    "    \n",
    "    There are three available models in the Sklearn python library:\n",
    "\n",
    "    1) Gaussian: It assumes that continuous features follow a normal distribution.\n",
    "\n",
    "    2) Multinomial: It is useful if your features are discrete.\n",
    "    \n",
    "    3) Bernoulli: The binomial model is useful if your features are binary."
   ]
  },
  {
   "cell_type": "code",
   "execution_count": 8,
   "metadata": {},
   "outputs": [],
   "source": [
    "import pandas as pd\n",
    "import numpy as np\n",
    "import matplotlib.pyplot as plt\n",
    "import time\n",
    "from sklearn.model_selection import train_test_split\n",
    "from sklearn.naive_bayes import GaussianNB, BernoulliNB, MultinomialNB\n",
    "\n",
    "# Importing dataset\n",
    "data = pd.read_csv(\"Titanic_train.csv\")\n",
    "\n",
    "# Convert categorical variable to numeric\n",
    "data[\"Sex_cleaned\"]=np.where(data[\"Sex\"]==\"male\",0,1)\n",
    "data[\"Embarked_cleaned\"]=np.where(data[\"Embarked\"]==\"S\",0,\n",
    "                                  np.where(data[\"Embarked\"]==\"C\",1,\n",
    "                                           np.where(data[\"Embarked\"]==\"Q\",2,3)\n",
    "                                          )\n",
    "                                 )\n",
    "# Cleaning dataset of NaN\n",
    "data=data[[\n",
    "    \"Survived\",\n",
    "    \"Pclass\",\n",
    "    \"Sex_cleaned\",\n",
    "    \"Age\",\n",
    "    \"SibSp\",\n",
    "    \"Parch\",\n",
    "    \"Fare\",\n",
    "    \"Embarked_cleaned\"\n",
    "]].dropna(axis=0, how='any')\n"
   ]
  },
  {
   "cell_type": "code",
   "execution_count": 39,
   "metadata": {},
   "outputs": [],
   "source": [
    "# Split dataset in training and test datasets\n",
    "X_train, X_test = train_test_split(data, test_size=0.5, random_state=int(time.time()))"
   ]
  },
  {
   "cell_type": "code",
   "execution_count": 40,
   "metadata": {},
   "outputs": [
    {
     "name": "stdout",
     "output_type": "stream",
     "text": [
      "Number of mislabeled points out of a total 357 points : 78, performance 78.15%\n"
     ]
    }
   ],
   "source": [
    "# Instantiate the classifier\n",
    "gnb = GaussianNB()\n",
    "used_features =[\n",
    "    \"Pclass\",\n",
    "    \"Sex_cleaned\",\n",
    "    \"Age\",\n",
    "    \"SibSp\",\n",
    "    \"Parch\",\n",
    "    \"Fare\",\n",
    "    \"Embarked_cleaned\"\n",
    "]\n",
    "\n",
    "# Train classifier\n",
    "gnb.fit(\n",
    "    X_train[used_features].values,\n",
    "    X_train[\"Survived\"]\n",
    ")\n",
    "y_pred = gnb.predict(X_test[used_features])\n",
    "\n",
    "# Print results\n",
    "print(\"Number of mislabeled points out of a total {} points : {}, performance {:05.2f}%\"\n",
    "      .format(\n",
    "          X_test.shape[0],\n",
    "          (X_test[\"Survived\"] != y_pred).sum(),\n",
    "          100*(1-(X_test[\"Survived\"] != y_pred).sum()/X_test.shape[0])\n",
    "))"
   ]
  },
  {
   "cell_type": "code",
   "execution_count": 22,
   "metadata": {},
   "outputs": [
    {
     "name": "stdout",
     "output_type": "stream",
     "text": [
      "Survival prob = 40.06%, Not survival prob = 59.94%\n"
     ]
    }
   ],
   "source": [
    "mean_survival=np.mean(X_train[\"Survived\"])\n",
    "mean_not_survival=1-mean_survival\n",
    "print(\"Survival prob = {:03.2f}%, Not survival prob = {:03.2f}%\"\n",
    ".format(100*mean_survival,100*mean_not_survival))"
   ]
  },
  {
   "cell_type": "code",
   "execution_count": 35,
   "metadata": {},
   "outputs": [
    {
     "name": "stdout",
     "output_type": "stream",
     "text": [
      "mean_fare_survived = 58.430\n",
      "std_fare_survived = 84.95\n",
      "mean_fare_not_survived = 20.95\n",
      "std_fare_not_survived = 25.58\n"
     ]
    }
   ],
   "source": [
    "\n",
    "mean_fare_survived = np.mean(X_train[X_train[\"Survived\"]==1][\"Fare\"])\n",
    "std_fare_survived = np.std(X_train[X_train[\"Survived\"]==1][\"Fare\"])\n",
    "mean_fare_not_survived = np.mean(X_train[X_train[\"Survived\"]==0][\"Fare\"])\n",
    "std_fare_not_survived = np.std(X_train[X_train[\"Survived\"]==0][\"Fare\"])\n",
    "\n",
    "print(\"mean_fare_survived = {:03.3f}\".format(mean_fare_survived))\n",
    "print(\"std_fare_survived = {:03.2f}\".format(std_fare_survived))\n",
    "print(\"mean_fare_not_survived = {:03.2f}\".format(mean_fare_not_survived))\n",
    "print(\"std_fare_not_survived = {:03.2f}\".format(std_fare_not_survived))\n",
    "\n"
   ]
  },
  {
   "cell_type": "code",
   "execution_count": 44,
   "metadata": {},
   "outputs": [
    {
     "name": "stdout",
     "output_type": "stream",
     "text": [
      "Confusion Matrix:\n",
      " [[180  42]\n",
      " [ 36  99]]\n",
      "Accuracy using sklearn.metrics :  0.7815126050420168\n",
      "Precision , Recall , F1-Score and Support : \n",
      "              precision    recall  f1-score   support\n",
      "\n",
      "          0       0.83      0.81      0.82       222\n",
      "          1       0.70      0.73      0.72       135\n",
      "\n",
      "avg / total       0.78      0.78      0.78       357\n",
      "\n"
     ]
    }
   ],
   "source": [
    "# we can also use metrics library for presentation\n",
    "import sklearn.metrics as skm\n",
    "print('Confusion Matrix:\\n',(skm.confusion_matrix(X_test['Survived'], y_pred)) )\n",
    "print('Accuracy using sklearn.metrics : ', skm.accuracy_score(X_test['Survived'],y_pred))\n",
    "print('Precision , Recall , F1-Score and Support : \\n', skm.classification_report(X_test['Survived'], y_pred))"
   ]
  }
 ],
 "metadata": {
  "kernelspec": {
   "display_name": "Python 3",
   "language": "python",
   "name": "python3"
  },
  "language_info": {
   "codemirror_mode": {
    "name": "ipython",
    "version": 3
   },
   "file_extension": ".py",
   "mimetype": "text/x-python",
   "name": "python",
   "nbconvert_exporter": "python",
   "pygments_lexer": "ipython3",
   "version": "3.6.4"
  }
 },
 "nbformat": 4,
 "nbformat_minor": 2
}
