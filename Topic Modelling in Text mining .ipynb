{
 "cells": [
  {
   "cell_type": "markdown",
   "metadata": {},
   "source": [
    "                Beginners Guide to Topic Modeling in Python"
   ]
  },
  {
   "cell_type": "markdown",
   "metadata": {},
   "source": [
    "    Table of Content\n",
    "\n",
    "    1 Latent Dirichlet Allocation for Topic Modeling\n",
    "        1.1 Parameters of LDA\n",
    "    2 Python Implementation\n",
    "        2.1 Preparing documents\n",
    "        2.2 Cleaning and Preprocessing\n",
    "        2.3 Preparing document term matrix\n",
    "        2.4 Running LDA model\n",
    "        2.5 Results\n",
    "    3 Tips to improve results of topic modelling\n",
    "        3.1 Frequency Filter\n",
    "        3.2 Part of Speech Tag Filter\n",
    "        3.3 Batch Wise LDA\n",
    "    4 Topic Modeling for Feature Selection\n"
   ]
  },
  {
   "cell_type": "markdown",
   "metadata": {},
   "source": [
    "#https://www.analyticsvidhya.com/blog/2016/08/beginners-guide-to-topic-modeling-in-python/"
   ]
  },
  {
   "cell_type": "markdown",
   "metadata": {
    "collapsed": true
   },
   "source": [
    "    Preparing Documents"
   ]
  },
  {
   "cell_type": "code",
   "execution_count": 79,
   "metadata": {
    "collapsed": false
   },
   "outputs": [
    {
     "data": {
      "text/plain": [
       "['Sugar is bad to consume. My sister likes to have sugar, but not my father.',\n",
       " 'My father spends a lot of time driving my sister around to dance practice.',\n",
       " 'Doctors suggest that driving may cause increased stress and blood pressure.',\n",
       " 'Sometimes I feel pressure to perform well at school, but my father never seems to drive my sister to do better.',\n",
       " 'Health experts say that Sugar is not good for your lifestyle.']"
      ]
     },
     "execution_count": 79,
     "metadata": {},
     "output_type": "execute_result"
    }
   ],
   "source": [
    "doc1 = \"Sugar is bad to consume. My sister likes to have sugar, but not my father.\"\n",
    "doc2 = \"My father spends a lot of time driving my sister around to dance practice.\"\n",
    "doc3 = \"Doctors suggest that driving may cause increased stress and blood pressure.\"\n",
    "doc4 = \"Sometimes I feel pressure to perform well at school, but my father never seems to drive my sister to do better.\"\n",
    "doc5 = \"Health experts say that Sugar is not good for your lifestyle.\"\n",
    "\n",
    "# compile documents\n",
    "doc_complete = [doc1, doc2, doc3, doc4, doc5]\n",
    "doc_complete"
   ]
  },
  {
   "cell_type": "markdown",
   "metadata": {},
   "source": [
    "        Cleaning and Preprocessing"
   ]
  },
  {
   "cell_type": "code",
   "execution_count": 86,
   "metadata": {
    "collapsed": false
   },
   "outputs": [
    {
     "name": "stdout",
     "output_type": "stream",
     "text": [
      "\n",
      " Sugar is bad to consume. My sister likes to have sugar, but not my father.\n",
      "sugar bad consume. sister likes sugar, father.\n",
      "sugar bad consume sister likes sugar father\n",
      " sugar bad consume sister like sugar father\n",
      "\n",
      " My father spends a lot of time driving my sister around to dance practice.\n",
      "father spends lot time driving sister around dance practice.\n",
      "father spends lot time driving sister around dance practice\n",
      " father spend lot time drive sister around dance practice\n",
      "\n",
      " Doctors suggest that driving may cause increased stress and blood pressure.\n",
      "doctors suggest driving may cause increased stress blood pressure.\n",
      "doctors suggest driving may cause increased stress blood pressure\n",
      " doctor suggest drive may cause increase stress blood pressure\n",
      "\n",
      " Sometimes I feel pressure to perform well at school, but my father never seems to drive my sister to do better.\n",
      "sometimes feel pressure perform well school, father never seems drive sister better.\n",
      "sometimes feel pressure perform well school father never seems drive sister better\n",
      " sometimes feel pressure perform well school father never seem drive sister good\n",
      "\n",
      " Health experts say that Sugar is not good for your lifestyle.\n",
      "health experts say sugar good lifestyle.\n",
      "health experts say sugar good lifestyle\n",
      " health expert say sugar good lifestyle\n"
     ]
    },
    {
     "data": {
      "text/plain": [
       "[['sugar', 'bad', 'consume', 'sister', 'like', 'sugar', 'father'],\n",
       " ['father',\n",
       "  'spend',\n",
       "  'lot',\n",
       "  'time',\n",
       "  'drive',\n",
       "  'sister',\n",
       "  'around',\n",
       "  'dance',\n",
       "  'practice'],\n",
       " ['doctor',\n",
       "  'suggest',\n",
       "  'drive',\n",
       "  'may',\n",
       "  'cause',\n",
       "  'increase',\n",
       "  'stress',\n",
       "  'blood',\n",
       "  'pressure'],\n",
       " ['sometimes',\n",
       "  'feel',\n",
       "  'pressure',\n",
       "  'perform',\n",
       "  'well',\n",
       "  'school',\n",
       "  'father',\n",
       "  'never',\n",
       "  'seem',\n",
       "  'drive',\n",
       "  'sister',\n",
       "  'good'],\n",
       " ['health', 'expert', 'say', 'sugar', 'good', 'lifestyle']]"
      ]
     },
     "execution_count": 86,
     "metadata": {},
     "output_type": "execute_result"
    }
   ],
   "source": [
    "from nltk.corpus import stopwords\n",
    "from nltk.stem.wordnet import WordNetLemmatizer\n",
    "import string\n",
    "\n",
    "stop = set(stopwords.words('english'))\n",
    "exclude = set(string.punctuation)\n",
    "lemma = WordNetLemmatizer()\n",
    "\n",
    "def clean(doc):\n",
    "    normalized_stemmed = \"\"\n",
    "    print(\"\\n\",doc)\n",
    "    stop_free = \" \".join([i for i in doc.lower().split() if i not in stop])\n",
    "    print(stop_free)\n",
    "    punc_free = ''.join(ch for ch in stop_free if ch not in exclude)\n",
    "    print(punc_free)\n",
    "    \n",
    "    \n",
    "    for word in punc_free.split():\n",
    "        y = lemma.lemmatize(word,\"v\") #lemmatize all words for verb\n",
    "        y = lemma.lemmatize(y,\"a\")    #lemmatize all words for adjectives\n",
    "        y = lemma.lemmatize(y,\"n\")    #lemmatize all words for nouns\n",
    "                           \n",
    "        normalized_stemmed = normalized_stemmed + \" \" + y\n",
    "    print(normalized_stemmed)\n",
    "    return normalized_stemmed\n",
    "\n",
    "\n",
    "doc_clean = [clean(doc).split() for doc in doc_complete]  \n",
    "doc_clean"
   ]
  },
  {
   "cell_type": "markdown",
   "metadata": {},
   "source": [
    "    Preparing Document-Term Matrix"
   ]
  },
  {
   "cell_type": "code",
   "execution_count": 87,
   "metadata": {
    "collapsed": false
   },
   "outputs": [
    {
     "name": "stdout",
     "output_type": "stream",
     "text": [
      "Dictionary(33 unique tokens: ['perform', 'health', 'may', 'pressure', 'lifestyle']...)\n"
     ]
    },
    {
     "data": {
      "text/plain": [
       "[[(0, 2), (1, 1), (2, 1), (3, 1), (4, 1), (5, 1)],\n",
       " [(2, 1), (5, 1), (6, 1), (7, 1), (8, 1), (9, 1), (10, 1), (11, 1), (12, 1)],\n",
       " [(12, 1),\n",
       "  (13, 1),\n",
       "  (14, 1),\n",
       "  (15, 1),\n",
       "  (16, 1),\n",
       "  (17, 1),\n",
       "  (18, 1),\n",
       "  (19, 1),\n",
       "  (20, 1)],\n",
       " [(2, 1),\n",
       "  (5, 1),\n",
       "  (12, 1),\n",
       "  (15, 1),\n",
       "  (21, 1),\n",
       "  (22, 1),\n",
       "  (23, 1),\n",
       "  (24, 1),\n",
       "  (25, 1),\n",
       "  (26, 1),\n",
       "  (27, 1),\n",
       "  (28, 1)],\n",
       " [(0, 1), (25, 1), (29, 1), (30, 1), (31, 1), (32, 1)]]"
      ]
     },
     "execution_count": 87,
     "metadata": {},
     "output_type": "execute_result"
    }
   ],
   "source": [
    "# Importing Gensim\n",
    "import gensim\n",
    "from gensim import corpora\n",
    "\n",
    "# Creating the term dictionary of our courpus, where every unique term is assigned an index. dictionary = corpora.Dictionary(doc_clean)\n",
    "dictionary = corpora.Dictionary(doc_clean)\n",
    "print(dictionary)\n",
    "# Converting list of documents (corpus) into Document Term Matrix using dictionary prepared above.\n",
    "doc_term_matrix = [dictionary.doc2bow(doc) for doc in doc_clean]\n",
    "doc_term_matrix"
   ]
  },
  {
   "cell_type": "markdown",
   "metadata": {},
   "source": [
    "    Running LDA Model"
   ]
  },
  {
   "cell_type": "code",
   "execution_count": 103,
   "metadata": {
    "collapsed": false
   },
   "outputs": [
    {
     "data": {
      "text/plain": [
       "<gensim.models.ldamodel.LdaModel at 0x7fa8c2425b38>"
      ]
     },
     "execution_count": 103,
     "metadata": {},
     "output_type": "execute_result"
    }
   ],
   "source": [
    "# Creating the object for LDA model using gensim library\n",
    "Lda = gensim.models.ldamodel.LdaModel\n",
    "\n",
    "# Running and Trainign LDA model on the document term matrix.\n",
    "ldamodel = Lda(doc_term_matrix, num_topics=3, id2word = dictionary, passes=50)\n",
    "\n",
    "ldamodel"
   ]
  },
  {
   "cell_type": "markdown",
   "metadata": {},
   "source": [
    "    Results"
   ]
  },
  {
   "cell_type": "code",
   "execution_count": 104,
   "metadata": {
    "collapsed": false
   },
   "outputs": [
    {
     "name": "stdout",
     "output_type": "stream",
     "text": [
      "[(0, '0.051*\"pressure\" + 0.051*\"good\"'), (1, '0.085*\"sister\" + 0.085*\"father\"'), (2, '0.030*\"sugar\" + 0.030*\"good\"')]\n"
     ]
    }
   ],
   "source": [
    "print(ldamodel.print_topics(num_topics=3, num_words=2))\n"
   ]
  },
  {
   "cell_type": "markdown",
   "metadata": {},
   "source": [
    "        Tips to improve results of topic modeling\n",
    "        1. Frequency Filter\n",
    "        2. Part of Speech Tag Filter\n",
    "        3. Batch Wise LDA"
   ]
  }
 ],
 "metadata": {
  "kernelspec": {
   "display_name": "Python 3",
   "language": "python",
   "name": "python3"
  },
  "language_info": {
   "codemirror_mode": {
    "name": "ipython",
    "version": 3
   },
   "file_extension": ".py",
   "mimetype": "text/x-python",
   "name": "python",
   "nbconvert_exporter": "python",
   "pygments_lexer": "ipython3",
   "version": "3.4.5"
  }
 },
 "nbformat": 4,
 "nbformat_minor": 2
}
