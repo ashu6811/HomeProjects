{
 "cells": [
  {
   "cell_type": "markdown",
   "metadata": {},
   "source": [
    "#Title          : Balance Scale Weight & Distance Database\n",
    "Number of Instances: 625 (49 balanced, 288 left, 288 right)\n",
    "Number of Attributes: 4 (numeric) + class name = 5\n",
    "Attribute Information:\n",
    "\n",
    "    Class Name (Target variable): 3\n",
    "        L [balance scale tip to the left]\n",
    "        B [balance scale be balanced]\n",
    "        R [balance scale tip to the right]\n",
    "    Left-Weight: 5 (1, 2, 3, 4, 5)\n",
    "    Left-Distance: 5 (1, 2, 3, 4, 5)\n",
    "    Right-Weight: 5 (1, 2, 3, 4, 5)\n",
    "    Right-Distance: 5 (1, 2, 3, 4, 5)\n",
    "\n",
    "    Missing Attribute Values: None\n",
    "    Class Distribution:\n",
    "        46.08 percent are L\n",
    "        07.84 percent are B\n",
    "        46.08 percent are R"
   ]
  },
  {
   "cell_type": "markdown",
   "metadata": {},
   "source": [
    "Decision Tree \n",
    "\n",
    "1) Using Entropy (Information Gain)\n",
    "\n",
    "2) Using Gini\n"
   ]
  },
  {
   "cell_type": "code",
   "execution_count": 3,
   "metadata": {},
   "outputs": [
    {
     "name": "stderr",
     "output_type": "stream",
     "text": [
      "/home/ashu6811/miniconda3/lib/python3.6/site-packages/sklearn/cross_validation.py:41: DeprecationWarning: This module was deprecated in version 0.18 in favor of the model_selection module into which all the refactored classes and functions are moved. Also note that the interface of the new CV iterators are different from that of this module. This module will be removed in 0.20.\n",
      "  \"This module will be removed in 0.20.\", DeprecationWarning)\n"
     ]
    }
   ],
   "source": [
    "#Import Libraries\n",
    "import pandas as pd\n",
    "import numpy as np\n",
    "from sklearn.tree import DecisionTreeClassifier\n",
    "from sklearn.cross_validation import train_test_split\n",
    "from sklearn.metrics import classification_report\n",
    "from sklearn.metrics import accuracy_score\n",
    "from sklearn.metrics import confusion_matrix\n",
    "\n"
   ]
  },
  {
   "cell_type": "code",
   "execution_count": 23,
   "metadata": {},
   "outputs": [
    {
     "name": "stdout",
     "output_type": "stream",
     "text": [
      "(624, 5)\n",
      "   B  1  1.1  1.2  1.3\n",
      "0  R  1    1    1    2\n",
      "1  R  1    1    1    3\n",
      "2  R  1    1    1    4\n",
      "3  R  1    1    1    5\n",
      "4  R  1    1    2    1\n",
      "5  R  1    1    2    2\n",
      "6  R  1    1    2    3\n",
      "7  R  1    1    2    4\n",
      "8  R  1    1    2    5\n",
      "9  R  1    1    3    1\n",
      "Range (unique()) for  B  is : ['R' 'L' 'B']  with counts : L    288\n",
      "R    288\n",
      "B     48\n",
      "Name: B, dtype: int64\n",
      "Range (unique()) for  1  is : [1 2 3 4 5]  with counts : 5    125\n",
      "4    125\n",
      "3    125\n",
      "2    125\n",
      "1    124\n",
      "Name: 1, dtype: int64\n",
      "Range (unique()) for  1.1  is : [1 2 3 4 5]  with counts : 5    125\n",
      "4    125\n",
      "3    125\n",
      "2    125\n",
      "1    124\n",
      "Name: 1.1, dtype: int64\n",
      "Range (unique()) for  1.2  is : [1 2 3 4 5]  with counts : 5    125\n",
      "4    125\n",
      "3    125\n",
      "2    125\n",
      "1    124\n",
      "Name: 1.2, dtype: int64\n",
      "Range (unique()) for  1.3  is : [2 3 4 5 1]  with counts : 5    125\n",
      "4    125\n",
      "3    125\n",
      "2    125\n",
      "1    124\n",
      "Name: 1.3, dtype: int64\n"
     ]
    }
   ],
   "source": [
    "#Load and prepare data\n",
    "data = pd.read_csv('balance_scale.csv')\n",
    "print(data.shape)\n",
    "print(data.head(10))\n",
    "var = data.columns.values\n",
    "for i in var:\n",
    "    print('Range (unique()) for ',i,' is :',data[i].unique(), ' with counts :', data[i].value_counts())\n",
    "\n",
    "\n",
    "    "
   ]
  },
  {
   "cell_type": "code",
   "execution_count": 65,
   "metadata": {},
   "outputs": [
    {
     "name": "stdout",
     "output_type": "stream",
     "text": [
      "(624, 4)\n",
      "(624,)\n",
      "(418, 4) (418,)\n",
      "(206, 4) (206,)\n"
     ]
    }
   ],
   "source": [
    "#split data\n",
    "X = data.values[:,1:5]\n",
    "y = data.values[:,0]\n",
    "print(X.shape)\n",
    "print(y.shape)\n",
    "x_train, x_test, y_train, y_test =train_test_split(X, y, test_size=0.33, random_state=42)\n",
    "print(x_train.shape, y_train.shape)\n",
    "print(x_test.shape, y_test.shape)"
   ]
  },
  {
   "cell_type": "code",
   "execution_count": 66,
   "metadata": {},
   "outputs": [
    {
     "name": "stdout",
     "output_type": "stream",
     "text": [
      "DecisionTreeClassifier(class_weight=None, criterion='gini', max_depth=3,\n",
      "            max_features=None, max_leaf_nodes=None,\n",
      "            min_impurity_decrease=0.0, min_impurity_split=None,\n",
      "            min_samples_leaf=5, min_samples_split=2,\n",
      "            min_weight_fraction_leaf=0.0, presort=False, random_state=100,\n",
      "            splitter='best')\n"
     ]
    },
    {
     "data": {
      "text/plain": [
       "DecisionTreeClassifier(class_weight=None, criterion='entropy', max_depth=3,\n",
       "            max_features=None, max_leaf_nodes=None,\n",
       "            min_impurity_decrease=0.0, min_impurity_split=None,\n",
       "            min_samples_leaf=5, min_samples_split=2,\n",
       "            min_weight_fraction_leaf=0.0, presort=False, random_state=100,\n",
       "            splitter='best')"
      ]
     },
     "execution_count": 66,
     "metadata": {},
     "output_type": "execute_result"
    }
   ],
   "source": [
    "#Model Prepare using gini index\n",
    "model_dt_gini = DecisionTreeClassifier(criterion='gini', random_state=100, max_depth=3, min_samples_leaf=5)\n",
    "result_dt_gini = model_dt_gini.fit(x_train, y_train)\n",
    "print(result_dt_gini)\n",
    "\n",
    "model_dt_entropy = DecisionTreeClassifier(criterion='entropy', random_state=100, max_depth=3, min_samples_leaf=5)\n",
    "result_dt_entropy = model_dt_entropy.fit(x_train, y_train)\n",
    "result_dt_entropy"
   ]
  },
  {
   "cell_type": "code",
   "execution_count": 67,
   "metadata": {},
   "outputs": [
    {
     "name": "stdout",
     "output_type": "stream",
     "text": [
      "\n",
      "\n",
      " Gini:::::::::\n",
      "\n",
      "Confusion Matrix:  [[ 0  7  7]\n",
      " [ 0 68 27]\n",
      " [ 0 17 80]]\n",
      "y predicted using gini index :  ['L' 'L' 'R' 'R' 'L' 'L' 'R' 'R' 'L' 'R' 'R' 'R' 'L' 'R' 'L' 'R' 'R' 'L'\n",
      " 'R' 'L' 'R' 'R' 'L' 'L' 'L' 'R' 'R' 'L' 'L' 'R' 'L' 'R' 'R' 'L' 'R' 'R'\n",
      " 'L' 'L' 'R' 'L' 'L' 'R' 'R' 'L' 'L' 'R' 'R' 'R' 'R' 'R' 'L' 'R' 'R' 'R'\n",
      " 'L' 'L' 'R' 'L' 'R' 'L' 'L' 'L' 'R' 'L' 'L' 'L' 'R' 'R' 'R' 'R' 'R' 'L'\n",
      " 'R' 'R' 'R' 'R' 'L' 'R' 'L' 'R' 'L' 'R' 'R' 'R' 'R' 'L' 'L' 'L' 'L' 'L'\n",
      " 'L' 'L' 'L' 'L' 'R' 'R' 'R' 'L' 'R' 'R' 'R' 'L' 'L' 'R' 'R' 'R' 'L' 'R'\n",
      " 'L' 'R' 'R' 'L' 'R' 'R' 'L' 'R' 'L' 'R' 'L' 'R' 'R' 'L' 'R' 'R' 'R' 'R'\n",
      " 'L' 'R' 'L' 'R' 'L' 'R' 'L' 'L' 'L' 'L' 'R' 'R' 'R' 'L' 'R' 'L' 'R' 'R'\n",
      " 'R' 'R' 'R' 'L' 'R' 'R' 'L' 'R' 'R' 'L' 'L' 'R' 'L' 'L' 'R' 'L' 'L' 'R'\n",
      " 'R' 'L' 'L' 'R' 'R' 'L' 'R' 'L' 'L' 'R' 'R' 'R' 'L' 'L' 'R' 'L' 'R' 'R'\n",
      " 'R' 'R' 'L' 'R' 'L' 'R' 'R' 'R' 'L' 'R' 'R' 'R' 'R' 'L' 'R' 'L' 'L' 'L'\n",
      " 'L' 'L' 'L' 'L' 'R' 'L' 'R' 'R']\n",
      "Report :               precision    recall  f1-score   support\n",
      "\n",
      "          B       0.00      0.00      0.00        14\n",
      "          L       0.74      0.72      0.73        95\n",
      "          R       0.70      0.82      0.76        97\n",
      "\n",
      "avg / total       0.67      0.72      0.69       206\n",
      "\n",
      "\n",
      "\n",
      " Entropy::::::::\n",
      "\n",
      "Confusion Matrix:  [[ 0  7  7]\n",
      " [ 0 68 27]\n",
      " [ 0 17 80]]\n",
      "\n",
      " y is predicted using entropy : ['L' 'L' 'R' 'R' 'L' 'L' 'R' 'R' 'L' 'R' 'R' 'R' 'L' 'R' 'L' 'R' 'R' 'L'\n",
      " 'R' 'L' 'R' 'R' 'L' 'L' 'L' 'R' 'R' 'L' 'L' 'R' 'L' 'R' 'R' 'L' 'R' 'R'\n",
      " 'L' 'L' 'R' 'L' 'L' 'R' 'R' 'L' 'L' 'R' 'R' 'R' 'R' 'R' 'L' 'R' 'R' 'R'\n",
      " 'L' 'L' 'R' 'L' 'R' 'L' 'L' 'L' 'R' 'L' 'L' 'L' 'R' 'R' 'R' 'R' 'R' 'L'\n",
      " 'R' 'R' 'R' 'R' 'L' 'R' 'L' 'R' 'L' 'R' 'R' 'R' 'R' 'L' 'L' 'L' 'L' 'L'\n",
      " 'L' 'L' 'L' 'L' 'R' 'R' 'R' 'L' 'R' 'R' 'R' 'L' 'L' 'R' 'R' 'R' 'L' 'R'\n",
      " 'L' 'R' 'R' 'L' 'R' 'R' 'L' 'R' 'L' 'R' 'L' 'R' 'R' 'L' 'R' 'R' 'R' 'R'\n",
      " 'L' 'R' 'L' 'R' 'L' 'R' 'L' 'L' 'L' 'L' 'R' 'R' 'R' 'L' 'R' 'L' 'R' 'R'\n",
      " 'R' 'R' 'R' 'L' 'R' 'R' 'L' 'R' 'R' 'L' 'L' 'R' 'L' 'L' 'R' 'L' 'L' 'R'\n",
      " 'R' 'L' 'L' 'R' 'R' 'L' 'R' 'L' 'L' 'R' 'R' 'R' 'L' 'L' 'R' 'L' 'R' 'R'\n",
      " 'R' 'R' 'L' 'R' 'L' 'R' 'R' 'R' 'L' 'R' 'R' 'R' 'R' 'L' 'R' 'L' 'L' 'L'\n",
      " 'L' 'L' 'L' 'L' 'R' 'L' 'R' 'R']\n",
      "Report :               precision    recall  f1-score   support\n",
      "\n",
      "          B       0.00      0.00      0.00        14\n",
      "          L       0.74      0.72      0.73        95\n",
      "          R       0.70      0.82      0.76        97\n",
      "\n",
      "avg / total       0.67      0.72      0.69       206\n",
      "\n"
     ]
    },
    {
     "name": "stderr",
     "output_type": "stream",
     "text": [
      "/home/ashu6811/miniconda3/lib/python3.6/site-packages/sklearn/metrics/classification.py:1135: UndefinedMetricWarning: Precision and F-score are ill-defined and being set to 0.0 in labels with no predicted samples.\n",
      "  'precision', 'predicted', average, warn_for)\n"
     ]
    }
   ],
   "source": [
    "#predict using model\n",
    "y_pred_gini = model_dt_gini.predict(x_test)\n",
    "y_pred_entropi = model_dt_entropi.predict(x_test)\n",
    "print('y predicted using gini index : ',y_pred_gini)\n",
    "print('\\n y is predicted using entropy :', y_pred_entropy) "
   ]
  },
  {
   "cell_type": "code",
   "execution_count": 73,
   "metadata": {},
   "outputs": [
    {
     "name": "stdout",
     "output_type": "stream",
     "text": [
      "\n",
      "\n",
      " Gini:::::::::\n",
      "\n",
      "Confusion Matrix:  [[ 0  7  7]\n",
      " [ 0 68 27]\n",
      " [ 0 17 80]]\n",
      "\n",
      "Accuracy score via Gini Index 71.84466019417476\n",
      "\n",
      "Report : \n",
      "              precision    recall  f1-score   support\n",
      "\n",
      "          B       0.00      0.00      0.00        14\n",
      "          L       0.74      0.72      0.73        95\n",
      "          R       0.70      0.82      0.76        97\n",
      "\n",
      "avg / total       0.67      0.72      0.69       206\n",
      "\n",
      "\n",
      "\n",
      " Entropy::::::::\n",
      "\n",
      "Confusion Matrix:  [[ 0  7  7]\n",
      " [ 0 68 27]\n",
      " [ 0 17 80]]\n",
      "\n",
      "Accuracy score via Entropy : 71.84466019417476\n",
      "\n",
      "Report : \n",
      "              precision    recall  f1-score   support\n",
      "\n",
      "          B       0.00      0.00      0.00        14\n",
      "          L       0.74      0.72      0.73        95\n",
      "          R       0.70      0.82      0.76        97\n",
      "\n",
      "avg / total       0.67      0.72      0.69       206\n",
      "\n"
     ]
    },
    {
     "name": "stderr",
     "output_type": "stream",
     "text": [
      "/home/ashu6811/miniconda3/lib/python3.6/site-packages/sklearn/metrics/classification.py:1135: UndefinedMetricWarning: Precision and F-score are ill-defined and being set to 0.0 in labels with no predicted samples.\n",
      "  'precision', 'predicted', average, warn_for)\n"
     ]
    }
   ],
   "source": [
    "# accuracy , confusion matrix, recall and precission\n",
    "\n",
    "print(\"\\n\\n Gini:::::::::\\n\")\n",
    "print(\"Confusion Matrix: \", confusion_matrix(y_test, y_pred_gini))\n",
    "print('\\nAccuracy score via Gini Index',accuracy_score(y_test, y_pred_gini)*100)    \n",
    "print(\"\\nReport : \\n\", classification_report(y_test, y_pred_gini))\n",
    "\n",
    "print(\"\\n\\n Entropy::::::::\\n\")\n",
    "print(\"Confusion Matrix: \", confusion_matrix(y_test, y_pred_entropy))\n",
    "print('\\nAccuracy score via Entropy :',accuracy_score(y_test, y_pred_entropy)*100)    \n",
    "print(\"\\nReport : \\n\", classification_report(y_test, y_pred_entropy))\n"
   ]
  }
 ],
 "metadata": {
  "kernelspec": {
   "display_name": "Python 3",
   "language": "python",
   "name": "python3"
  },
  "language_info": {
   "codemirror_mode": {
    "name": "ipython",
    "version": 3
   },
   "file_extension": ".py",
   "mimetype": "text/x-python",
   "name": "python",
   "nbconvert_exporter": "python",
   "pygments_lexer": "ipython3",
   "version": "3.6.4"
  }
 },
 "nbformat": 4,
 "nbformat_minor": 2
}
