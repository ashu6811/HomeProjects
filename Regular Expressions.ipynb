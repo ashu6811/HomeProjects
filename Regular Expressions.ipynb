{
 "cells": [
  {
   "cell_type": "code",
   "execution_count": 1,
   "metadata": {},
   "outputs": [],
   "source": [
    "import re"
   ]
  },
  {
   "cell_type": "markdown",
   "metadata": {},
   "source": [
    "https://www.analyticsvidhya.com/blog/2015/06/regular-expression-python/"
   ]
  },
  {
   "cell_type": "markdown",
   "metadata": {},
   "source": [
    "What are various methods of Regular Expressions?\n",
    "\n",
    "\n",
    "   1. re.match()\n",
    "   2. re.search()\n",
    "   3. re.findall()\n",
    "   4. re.split()\n",
    "   5. re.sub()\n",
    "   6. re.compile()\n"
   ]
  },
  {
   "cell_type": "code",
   "execution_count": 22,
   "metadata": {},
   "outputs": [
    {
     "name": "stdout",
     "output_type": "stream",
     "text": [
      "<_sre.SRE_Match object; span=(0, 2), match='AV'>\n",
      "AV\n"
     ]
    }
   ],
   "source": [
    "############# 1. re.match(pattern, string):\n",
    "#This method finds match if it occurs at start of the string\n",
    "result = re.match('AV', 'AVV is matched with first two letters of phrase and none other av AV')\n",
    "print(result)\n",
    "\n",
    "#Use “r” at the start of the pattern string, it designates a python raw string.\n",
    "print (result.group(0))"
   ]
  },
  {
   "cell_type": "code",
   "execution_count": 24,
   "metadata": {},
   "outputs": [
    {
     "name": "stdout",
     "output_type": "stream",
     "text": [
      "None\n"
     ]
    }
   ],
   "source": [
    "result = re.match(r'Analytics', 'AV Analytics Vidhya AV')\n",
    "print (result)"
   ]
  },
  {
   "cell_type": "code",
   "execution_count": 28,
   "metadata": {},
   "outputs": [
    {
     "name": "stdout",
     "output_type": "stream",
     "text": [
      "0\n",
      "2\n"
     ]
    }
   ],
   "source": [
    "#get starting and ending positions of AV matched\n",
    "result = re.match(r'AV', 'AV Analytics Vidhya AVd c')\n",
    "print (result.start())\n",
    "print (result.end())"
   ]
  },
  {
   "cell_type": "code",
   "execution_count": 29,
   "metadata": {},
   "outputs": [
    {
     "name": "stdout",
     "output_type": "stream",
     "text": [
      "Analytics\n"
     ]
    }
   ],
   "source": [
    "########### 2. re.search(pattern, string):\n",
    "\n",
    "result = re.search(r'Analytics', 'AV Analytics Vidhya AV')\n",
    "print (result.group(0))"
   ]
  },
  {
   "cell_type": "code",
   "execution_count": 30,
   "metadata": {},
   "outputs": [
    {
     "name": "stdout",
     "output_type": "stream",
     "text": [
      "Analytics\n"
     ]
    }
   ],
   "source": [
    "result = re.search(r'Analytics', 'AV Analytics Vidhya analytics Analytics AV')\n",
    "print (result.group(0))"
   ]
  },
  {
   "cell_type": "code",
   "execution_count": 34,
   "metadata": {},
   "outputs": [
    {
     "name": "stdout",
     "output_type": "stream",
     "text": [
      "['AV', 'AV']\n"
     ]
    }
   ],
   "source": [
    "########### 3. result = re.findall(pattern, string)\n",
    "\n",
    "result = re.findall(r'AV', 'AV Analytics Vidhya av AV Av')\n",
    "print (result)"
   ]
  },
  {
   "cell_type": "code",
   "execution_count": 35,
   "metadata": {},
   "outputs": [
    {
     "data": {
      "text/plain": [
       "['Anal', 'tics']"
      ]
     },
     "execution_count": 35,
     "metadata": {},
     "output_type": "execute_result"
    }
   ],
   "source": [
    "######### 4. re.split(pattern, string, [maxsplit=0]):\n",
    "\n",
    "result=re.split(r'y','Analytics')\n",
    "result"
   ]
  },
  {
   "cell_type": "code",
   "execution_count": 37,
   "metadata": {},
   "outputs": [
    {
     "data": {
      "text/plain": [
       "['Anal', 'tic s wh', ' is it import', 'tant', '']"
      ]
     },
     "execution_count": 37,
     "metadata": {},
     "output_type": "execute_result"
    }
   ],
   "source": [
    "re.split('y','Analytic s why is it importytanty') # we may use r to group together"
   ]
  },
  {
   "cell_type": "code",
   "execution_count": 38,
   "metadata": {},
   "outputs": [
    {
     "data": {
      "text/plain": [
       "['Analyt', 'cs Vidhya']"
      ]
     },
     "execution_count": 38,
     "metadata": {},
     "output_type": "execute_result"
    }
   ],
   "source": [
    "result=re.split(r'i','Analytics Vidhya',maxsplit=1)\n",
    "result"
   ]
  },
  {
   "cell_type": "code",
   "execution_count": 39,
   "metadata": {},
   "outputs": [
    {
     "data": {
      "text/plain": [
       "['Analyt', 'cs V', 'dhya']"
      ]
     },
     "execution_count": 39,
     "metadata": {},
     "output_type": "execute_result"
    }
   ],
   "source": [
    "result=re.split(r'i','Analytics Vidhya')\n",
    "result"
   ]
  },
  {
   "cell_type": "code",
   "execution_count": 43,
   "metadata": {},
   "outputs": [
    {
     "data": {
      "text/plain": [
       "'AV is largest Analytics community of the World and the world for testing'"
      ]
     },
     "execution_count": 43,
     "metadata": {},
     "output_type": "execute_result"
    }
   ],
   "source": [
    "######### 5. re.sub(pattern, repl, string):\n",
    "\n",
    "#to replace all the sub matchings with the given string in a phrase\n",
    "result=re.sub('India','the World','AV is largest Analytics community of India and the world for testing')\n",
    "result"
   ]
  },
  {
   "cell_type": "code",
   "execution_count": 49,
   "metadata": {},
   "outputs": [
    {
     "name": "stdout",
     "output_type": "stream",
     "text": [
      "['AV', 'AV']\n",
      "['AV']\n",
      "['AV', 'AV']\n"
     ]
    }
   ],
   "source": [
    "######## 6. re.compile(pattern, repl, string):\n",
    "\n",
    "import re\n",
    "pattern=re.compile('AV')\n",
    "result=pattern.findall('AV Analytics Vidhya AV')\n",
    "print (result)\n",
    "result2=re.compile('AV').findall('AV is largest analytics community of India')\n",
    "print (result2)\n",
    "result3=re.findall('AV','AV Analytics Vidhya AV')\n",
    "print(result3)"
   ]
  },
  {
   "cell_type": "markdown",
   "metadata": {},
   "source": [
    "Operators \tDescription\n",
    "\n",
    ". \t Matches with any single character except newline ‘\\n’.\n",
    "\n",
    "? \t match 0 or 1 occurrence of the pattern to its left\n",
    "\n",
    "+ \t 1 or more occurrences of the pattern to its left\n",
    "\n",
    "* \t 0 or more occurrences of the pattern to its left\n",
    "\n",
    "\\w \t Matches with a alphanumeric character whereas \\W (upper case W) matches non alphanumeric character.\n",
    "\n",
    "\\d \t  Matches with digits [0-9] and /D (upper case D) matches with non-digits.\n",
    "\n",
    "\\s \t Matches with a single white space character (space, newline, return, tab, form) and \\S (upper case S) matches any non-white space character.\n",
    "\n",
    "\\b \t boundary between word and non-word and /B is opposite of /b\n",
    "\n",
    "[..] \t Matches any single character in a square bracket and [^..] matches any single character not in square bracket\n",
    "\n",
    "\\ \t It is used for special meaning characters like \\. to match a period or \\+ for plus sign.\n",
    "\n",
    "^ and $ \t ^ and $ match the start or end of the string respectively\n",
    "\n",
    "{n,m} \t Matches at least n and at most m occurrences of preceding expression if we write it as {,m} then it will return at least any minimum occurrence to max m preceding expression.\n",
    "\n",
    "a| b \t Matches either a or b\n",
    "\n",
    "( ) \tGroups regular expressions and returns matched text\n",
    "\n",
    "\\t, \\n, \\r \t Matches tab, newline, return\n",
    "\n",
    "For more details on  meta characters “(“, “)”,”|” and others details , you can refer this link (https://docs.python.org/2/library/re.html)."
   ]
  },
  {
   "cell_type": "code",
   "execution_count": 51,
   "metadata": {},
   "outputs": [
    {
     "name": "stdout",
     "output_type": "stream",
     "text": [
      "['A', 'V', ' ', 'i', 's', ' ', 'l', 'a', 'r', 'g', 'e', 's', 't', ' ', 'A', 'n', 'a', 'l', 'y', 't', 'i', 'c', 's', ' ', 'c', 'o', 'm', 'm', 'u', 'n', 'i', 't', 'y', ' ', 'o', 'f', ' ', 'I', 'n', 'd', 'i', 'a']\n"
     ]
    }
   ],
   "source": [
    "#Some Examples of Regular Expressions\n",
    "\n",
    "import re\n",
    "result=re.findall(r'.','AV is largest Analytics community of India')\n",
    "print (result)"
   ]
  },
  {
   "cell_type": "code",
   "execution_count": 78,
   "metadata": {
    "scrolled": true
   },
   "outputs": [
    {
     "data": {
      "text/plain": [
       "['A',\n",
       " 'V',\n",
       " 'i',\n",
       " 's',\n",
       " 'l',\n",
       " 'a',\n",
       " 'r',\n",
       " 'g',\n",
       " 'e',\n",
       " 's',\n",
       " 't',\n",
       " 'A',\n",
       " 'n',\n",
       " 'a',\n",
       " 'l',\n",
       " 'y',\n",
       " 't',\n",
       " 'i',\n",
       " 'c',\n",
       " 's',\n",
       " 'c',\n",
       " 'o',\n",
       " 'm',\n",
       " 'm',\n",
       " 'u',\n",
       " 'n',\n",
       " 'i',\n",
       " 't',\n",
       " 'y',\n",
       " 'o',\n",
       " 'f',\n",
       " 'I',\n",
       " 'n',\n",
       " 'd',\n",
       " 'i',\n",
       " 'a']"
      ]
     },
     "execution_count": 78,
     "metadata": {},
     "output_type": "execute_result"
    }
   ],
   "source": [
    "re.findall(r'\\w','AV is largest Analytics community of India')"
   ]
  },
  {
   "cell_type": "code",
   "execution_count": 57,
   "metadata": {},
   "outputs": [
    {
     "name": "stdout",
     "output_type": "stream",
     "text": [
      "['AV', '', 'is', '', 'largest', '', 'Analytics', '', 'community', '', 'of', '', 'India', '']\n",
      "['AV', 'is', 'largest', 'Analytics', 'community', 'of', 'India']\n"
     ]
    }
   ],
   "source": [
    "####Extract each word (using “*” or “+“)\n",
    "\n",
    "result=re.findall(r'\\w*','AV is largest Analytics community of India')\n",
    "print (result)\n",
    "print(re.findall(r'\\w+','AV is largest Analytics community of India'))"
   ]
  },
  {
   "cell_type": "code",
   "execution_count": 63,
   "metadata": {},
   "outputs": [
    {
     "name": "stdout",
     "output_type": "stream",
     "text": [
      "['A']\n",
      "['AV']\n",
      "['AV']\n"
     ]
    }
   ],
   "source": [
    "#######Extract each word (using “^“)\n",
    "print(re.findall(r'^\\w' , 'AV is largest Analytics community of India'))\n",
    "\n",
    "print(re.findall(r'^\\w+' , 'AV is largest Analytics community of India'))\n",
    "\n",
    "print(re.findall(r'^\\w*' , 'AV is largest Analytics community of India'))"
   ]
  },
  {
   "cell_type": "code",
   "execution_count": 70,
   "metadata": {},
   "outputs": [
    {
     "name": "stdout",
     "output_type": "stream",
     "text": [
      "['a']\n",
      "['India']\n",
      "['India', '']\n"
     ]
    }
   ],
   "source": [
    "#use “$” instead of “^”, it will return the word from the end of the string. \n",
    "print(re.findall(r'\\w$' , 'AV is largest Analytics community of India'))\n",
    "\n",
    "print(re.findall(r'\\w+$' , 'AV is largest Analytics community of India'))\n",
    "\n",
    "print(re.findall(r'\\w*$' , 'AV is largest Analytics community of India'))\n"
   ]
  },
  {
   "cell_type": "markdown",
   "metadata": {},
   "source": [
    "Problem 2: Return the first two character of each word"
   ]
  },
  {
   "cell_type": "code",
   "execution_count": 105,
   "metadata": {},
   "outputs": [
    {
     "name": "stdout",
     "output_type": "stream",
     "text": [
      "['AV', 'is', 'la', 'rg', 'es', 'An', 'al', 'yt', 'ic', 'co', 'mm', 'un', 'it', 'of', 'In', 'di']\n"
     ]
    }
   ],
   "source": [
    "#Solution-1  Extract consecutive two characters of each word, excluding spaces (using “\\w“) \n",
    "\n",
    "print(re.findall(r'(\\w\\w)', 'AV is largest Analytics community of India'))"
   ]
  },
  {
   "cell_type": "code",
   "execution_count": 119,
   "metadata": {},
   "outputs": [
    {
     "name": "stdout",
     "output_type": "stream",
     "text": [
      "['AV', 'is', 'la', 'An', 'co', 'of', 'In']\n",
      "['AV', 'is', 'la', 'An', 'co', 'of', 'In']\n",
      "[' is', ' la', ' An', ' co', ' of', ' In']\n",
      "['AV', 'is', 'st', 'cs', 'ty', 'of', 'ia']\n",
      "['AV', 'is', 'st', 'cs', 'ty', 'of', 'ia']\n",
      "['AV ', 'is ', 'st ', 'cs ', 'ty ', 'of ']\n"
     ]
    }
   ],
   "source": [
    "#Solution-2  Extract consecutive two characters those available at start of word boundary (using “\\b“)\n",
    "print(re.findall(r'\\b\\w.','AV is largest Analytics community of India'))\n",
    "print(re.findall(r'(\\b\\w\\w)', 'AV is largest Analytics community of India'))\n",
    "print(re.findall(r'(\\s\\w\\w)', 'AV is largest Analytics community of India'))\n",
    "print(re.findall(r'(.\\w\\b)', 'AV is largest Analytics community of India'))\n",
    "print(re.findall(r'(\\w\\w\\b)', 'AV is largest Analytics community of India'))\n",
    "print(re.findall(r'(\\w\\w\\s)', 'AV is largest Analytics community of India'))\n"
   ]
  },
  {
   "cell_type": "markdown",
   "metadata": {},
   "source": [
    "Problem 3: Return the domain type of given email-ids"
   ]
  },
  {
   "cell_type": "code",
   "execution_count": 127,
   "metadata": {},
   "outputs": [
    {
     "name": "stdout",
     "output_type": "stream",
     "text": [
      "['@gmail', '@test', '@analyticsvidhya', '@rest']\n",
      "['@gmail.com', '@test.in', '@analyticsvidhya.com', '@rest.biz']\n",
      "['test@gmail.com', 'xyz@test.in', 'first@analyticsvidhya.com', 'test@rest.biz']\n"
     ]
    }
   ],
   "source": [
    "#Solution-1  Extract all characters after “@”\n",
    "\n",
    "result=re.findall(r'@\\w+','abc.test@gmail.com, xyz@test.in, test.first@analyticsvidhya.com, first.test@rest.biz') \n",
    "print (result) \n",
    "\n",
    "result=re.findall(r'@\\w+.\\w+','abc.test@gmail.com, xyz@test.in, test.first@analyticsvidhya.com, first.test@rest.biz')\n",
    "print (result)\n",
    "\n",
    "result=re.findall(r'\\w+@\\w+.\\w+','abc.test@gmail.com, xyz@test.in, test.first@analyticsvidhya.com, first.test@rest.biz')\n",
    "print (result)"
   ]
  },
  {
   "cell_type": "code",
   "execution_count": 134,
   "metadata": {},
   "outputs": [
    {
     "name": "stdout",
     "output_type": "stream",
     "text": [
      "['gmail', 'test', 'analyticsvidhya', 'rest']\n",
      "['com', 'in', 'com', 'biz']\n"
     ]
    }
   ],
   "source": [
    "#Solution – 2 Extract only domain name using “( )”\n",
    "\n",
    "result=re.findall(r'@(\\w+).\\w+','abc.test@gmail.com, xyz@test.in, test.first@analyticsvidhya.com, first.test@rest.biz')\n",
    "print (result)\n",
    "\n",
    "result=re.findall(r'@\\w+.(\\w+)','abc.test@gmail.com, xyz@test.in, test.first@analyticsvidhya.com, first.test@rest.biz')\n",
    "print (result)"
   ]
  },
  {
   "cell_type": "markdown",
   "metadata": {},
   "source": [
    "Problem 4: Return date from given string"
   ]
  },
  {
   "cell_type": "code",
   "execution_count": 140,
   "metadata": {},
   "outputs": [
    {
     "name": "stdout",
     "output_type": "stream",
     "text": [
      "['12-05-2007', '11-11-2011', '12-01-2009']\n",
      "['2007', '2011', '2009']\n"
     ]
    }
   ],
   "source": [
    "#solution - Here we will use “\\d” to extract digit.\n",
    "result=re.findall(r'\\d{2}-\\d{2}-\\d{4}','Amit 34-3456 12-05-2007, XYZ 56-4532 11-11-2011, ABC 67-8945 12-01-2009')\n",
    "print (result)\n",
    "\n",
    "#If you want to extract only year again parenthesis “( )” will help you.\n",
    "result=re.findall(r'\\d{2}-\\d{2}-(\\d{4})','Amit 34-3456 12-05-2007, XYZ 56-4532 11-11-2011, ABC 67-8945 12-01-2009')\n",
    "print (result)\n"
   ]
  },
  {
   "cell_type": "markdown",
   "metadata": {},
   "source": [
    "Problem 5: Return all words of a string those starts with vowel"
   ]
  },
  {
   "cell_type": "code",
   "execution_count": 160,
   "metadata": {},
   "outputs": [
    {
     "name": "stdout",
     "output_type": "stream",
     "text": [
      "['AV', 'is', 'largest', 'Analytics', 'community', 'of', 'India']\n",
      "['AV', 'Analytics']\n",
      "['AV', 'is', 'Analytics', 'of', 'India']\n",
      "['AV', 'is', 'Analytics', 'of', 'India']\n"
     ]
    }
   ],
   "source": [
    "result=re.findall(r'\\w+','AV is largest Analytics community of India')\n",
    "print (result)\n",
    "\n",
    "result=re.findall(r'\\bA\\w+','AV is largest Analytics community of India')\n",
    "print (result)\n",
    "\n",
    "\n",
    "result=re.findall(r'\\b[a,e,i,o,u,A,E,I,O,U]\\w+','AV is largest Analytics community of India')\n",
    "print (result)\n",
    "\n",
    "result=re.findall(r'\\b[aeiouAEIOU]\\w+','AV is largest Analytics community of India')\n",
    "print (result)\n"
   ]
  },
  {
   "cell_type": "markdown",
   "metadata": {},
   "source": [
    "Problem 6: Validate a phone number (phone number must be of 10 digits and starts with 7,8 or 9) "
   ]
  },
  {
   "cell_type": "code",
   "execution_count": 181,
   "metadata": {},
   "outputs": [
    {
     "name": "stdout",
     "output_type": "stream",
     "text": [
      "yes\n",
      "no\n",
      "no\n",
      "no\n",
      "yes\n",
      "\n",
      "After using '7-9' istead of '7,9'\n",
      "yes\n",
      "no\n",
      "no\n",
      "yes\n",
      "yes\n"
     ]
    }
   ],
   "source": [
    "import re\n",
    "li=['9999999999','999999-999','99999x9999','8282828289','7654545746']\n",
    "for val in li:\n",
    " if re.match(r'[7,9]{1}[0-9]{9}',val) and len(val) == 10:\n",
    "     print ('yes')\n",
    " else:\n",
    "     print ('no')\n",
    "        \n",
    "print(\"\\nAfter using '7-9' istead of '7,9'\")\n",
    "import re\n",
    "li=['9999999999','999999-999','99999x9999','8282828289','7654545746']\n",
    "for val in li:\n",
    " if re.findall(r'[7-9]{1}[0-9]{9}',val) and len(val) == 10:\n",
    "     print ('yes')\n",
    " else:\n",
    "     print ('no')"
   ]
  },
  {
   "cell_type": "markdown",
   "metadata": {},
   "source": [
    "Problem 7: Split a string with multiple delimiters"
   ]
  },
  {
   "cell_type": "code",
   "execution_count": 186,
   "metadata": {},
   "outputs": [
    {
     "name": "stdout",
     "output_type": "stream",
     "text": [
      "['asdf fjdk', 'afed,fjek,asdf,foo']\n",
      "['asdf', 'fjdk;afed,fjek,asdf,foo']\n",
      "['asdf fjdk;afed', 'fjek', 'asdf', 'foo']\n",
      "['asdf', 'fjdk', 'afed,fjek,asdf,foo']\n",
      "['asdf', 'fjdk', 'afed', 'fjek', 'asdf', 'foo']\n"
     ]
    }
   ],
   "source": [
    "#Solution -1 using split()\n",
    "import re\n",
    "line = 'asdf fjdk;afed,fjek,asdf,foo' # String has multiple delimiters (\";\",\",\",\" \").\n",
    "result= re.split(r'[;]', line)\n",
    "print (result)\n",
    "\n",
    "result= re.split(r'[\\s]', line)\n",
    "print (result)\n",
    "\n",
    "result= re.split(r'[,]', line)\n",
    "print (result)\n",
    "\n",
    "result= re.split(r'[;\\s]', line)\n",
    "print (result)\n",
    "\n",
    "result= re.split(r'[;\\s,]', line)\n",
    "print (result)"
   ]
  },
  {
   "cell_type": "code",
   "execution_count": 189,
   "metadata": {},
   "outputs": [
    {
     "name": "stdout",
     "output_type": "stream",
     "text": [
      "asdf fjdk afed fjek asdf foo\n",
      "['asdf', 'fjdk', 'afed', 'fjek', 'asdf', 'foo']\n"
     ]
    }
   ],
   "source": [
    "#Solution -2 We can also use method re.sub() to replace these multiple delimiters with one as space\n",
    "\n",
    "line = 'asdf fjdk;afed,fjek,asdf,foo'\n",
    "result= re.sub(r'[;,\\s]',' ', line)\n",
    "print (result)\n",
    "\n",
    "print(re.split(r'[\\s]',result))"
   ]
  },
  {
   "cell_type": "markdown",
   "metadata": {},
   "source": [
    "Problem 8: Retrieve Information from HTML file"
   ]
  },
  {
   "cell_type": "code",
   "execution_count": 199,
   "metadata": {},
   "outputs": [
    {
     "data": {
      "text/plain": [
       "'<tr align=\"center\"><td>1</td> <td>Noah</td> <td>Emma</td></tr><tr align=\"center\"><td>2</td> <td>Liam</td> <td>Olivia</td></tr><tr align=\"center\"><td>3</td> <td>Mason</td> <td>Sophia</td></tr><tr align=\"center\"><td>4</td> <td>Jacob</td> <td>Isabella</td></tr><tr align=\"center\"><td>5</td> <td>William</td> <td>Ava</td></tr><tr align=\"center\"><td>6</td> <td>Ethan</td> <td>Mia</td></tr><tr align=\"center\"><td>7</td> <td HTML>Michael</td> <td>Emily</td></tr>'"
      ]
     },
     "execution_count": 199,
     "metadata": {},
     "output_type": "execute_result"
    }
   ],
   "source": [
    "str =  '<tr align=\"center\"><td>1</td> <td>Noah</td> <td>Emma</td></tr>'\n",
    "str += '<tr align=\"center\"><td>2</td> <td>Liam</td> <td>Olivia</td></tr>'\n",
    "str += '<tr align=\"center\"><td>3</td> <td>Mason</td> <td>Sophia</td></tr>'\n",
    "str += '<tr align=\"center\"><td>4</td> <td>Jacob</td> <td>Isabella</td></tr>'\n",
    "str += '<tr align=\"center\"><td>5</td> <td>William</td> <td>Ava</td></tr>'\n",
    "str += '<tr align=\"center\"><td>6</td> <td>Ethan</td> <td>Mia</td></tr>'\n",
    "str += '<tr align=\"center\"><td>7</td> <td HTML>Michael</td> <td>Emily</td></tr>'\n",
    "str"
   ]
  },
  {
   "cell_type": "code",
   "execution_count": 216,
   "metadata": {},
   "outputs": [
    {
     "name": "stdout",
     "output_type": "stream",
     "text": [
      "[('Noah', 'Emma'), ('Liam', 'Olivia'), ('Mason', 'Sophia'), ('Jacob', 'Isabella'), ('William', 'Ava'), ('Ethan', 'Mia')]\n",
      "[('Michael', 'Emily')]\n"
     ]
    }
   ],
   "source": [
    "#Solution:\n",
    "\n",
    "result=re.findall(r'<td>\\w+</td>\\s<td>(\\w+)</td>\\s<td>(\\w+)</td>',str)\n",
    "print (result)\n",
    "\n",
    "result=re.findall(r\"<td>\\w+</td>\\s<td HTML>(\\w+)</td>\\s<td>(\\w+)</td>\",str)\n",
    "print (result)"
   ]
  }
 ],
 "metadata": {
  "kernelspec": {
   "display_name": "Python 3",
   "language": "python",
   "name": "python3"
  },
  "language_info": {
   "codemirror_mode": {
    "name": "ipython",
    "version": 3
   },
   "file_extension": ".py",
   "mimetype": "text/x-python",
   "name": "python",
   "nbconvert_exporter": "python",
   "pygments_lexer": "ipython3",
   "version": "3.6.4"
  }
 },
 "nbformat": 4,
 "nbformat_minor": 2
}
